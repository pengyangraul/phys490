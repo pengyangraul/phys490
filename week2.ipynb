{
 "cells": [
  {
   "cell_type": "markdown",
   "metadata": {},
   "source": [
    "---\n",
    "title: \"Numbers and Errors\"\n",
    "format: \n",
    "  html:\n",
    "    toc: true\n",
    "    code-fold: false\n",
    "    page-layout: full\n",
    "    fig-cap-location: bottom\n",
    "    number-sections: true\n",
    "    number-depth: 2\n",
    "jupyter: python3\n",
    "---"
   ]
  },
  {
   "cell_type": "markdown",
   "metadata": {},
   "source": [
    "# Motivation\n",
    "Numbers have doubt to be very important in physics: : both experimental measurements and theoretical calculations produce specific numbers. One also estimates the experimental or theoretical uncertainty associated with these values. \n",
    "\n",
    "Experimentally, when we measure some quantities, we will only record the measurement results as numbers with finite lengh of digits. \n",
    "This length of digits is not only restricted by the finite precision of the measurement, but also by the finite amount of storage we have.\n",
    "For example, if we write down these numbers on paper, the longer digits we keep, the more space on paper we need.\n",
    "Likewise, if we store these data on a computer, only a finite number of digits can be stored in the finite storage in the computer. \n",
    "\n",
    "Because of this, when we use computer to help us perform calculations and simulations, we have to keep in mind that we always make approximations to some (maybe unknown) true values. We have to make sure that such errors should not affect the underlying physics we want to explore.  "
   ]
  },
  {
   "cell_type": "markdown",
   "metadata": {},
   "source": [
    "# Errors\n",
    "In this section you will systematically learn the _errors_ you may encounter. We will first introduce some terminologies. \n",
    "\n",
    "We shall use _accuracy_ to describe the match of a value with the (possibly unknown) true value. On the other hand, we use _precision_ to denote how many digits we can use in a mathematical operation, no matter whether these digits are correct or not.  \n",
    "\n",
    "An inaccurate result arises when we have an error, which can due to a variety of reasons, and the _limited precision_ is just one of them. \n",
    "\n",
    "Besides the \"human error\" and measurement uncertainty, there are two typical types of errors in numerical computing:\n",
    "\n",
    "- __Approximation errors__. Example: when are trying to approximate the exponential $e^x$ by the its Taylor series\n",
    "$$\n",
    "y = \\sum_{n=0}^{n_{max}}\\frac{x^n}{n!},\n",
    "$$\n",
    "we are limiting the sum to terms up to $n_{max}$. Thus, the value of $y$ for a given $x$ may depend on $n_{max}$.\n",
    "\n",
    "- __Roundoff errors__. These are also known as _rounding errors_. This type of error appears every time a calculation is carried out using floating-point numbers, as they don't have infinite precision. For example, using real numbers, we have $(\\sqrt{2})^2 - 2 = 0$. However, one can check in python"
   ]
  },
  {
   "cell_type": "code",
   "execution_count": 31,
   "metadata": {},
   "outputs": [
    {
     "name": "stdout",
     "output_type": "stream",
     "text": [
      "4.440892098500626e-16\n"
     ]
    }
   ],
   "source": [
    "from math import sqrt\n",
    "print(sqrt(2)**2 - 2)"
   ]
  },
  {
   "cell_type": "markdown",
   "metadata": {},
   "source": [
    "## Absolute and Relative Error\n",
    "We will first introduce some basic concepts. Let's say we want to study a quantity with exact value $x$. If $\\tilde{x}$ is an approximate value for it, then we can define _absolute error_ as $\\Delta x = \\tilde{x} - x$. \n",
    "\n",
    "We are interested in defining an _error bound_ of the form $|\\Delta x| \\leq \\epsilon$ where we hope that $\\epsilon$ is \"small\". This means that even though we don't know the exact value of $x$, we do know it could be at most $\\tilde{x} + \\epsilon$ and at least $\\tilde{x} - \\epsilon$.\n",
    "\n",
    "Sometimes, the absolute error is not enough. For example, if we have $x = 1000000000.0$, $\\tilde{x} = 999999999.0$, which corresponds to an absolute error $\\Delta x = -1$. Obviously, we should not say $\\Delta x$ is small. On the other hand, we do feel that $x$ and $\\tilde{x}$ are close enough. \n",
    "\n",
    "This is resolved by introducing  a new definition, the _relative error_, defined as\n",
    "$$\n",
    "\\delta x = \\frac{\\Delta x}{x} = \\frac{\\tilde{x} - x}{x},\n",
    "$$\n",
    "which is just the absolute error divided by the exact value. We can also define a _bound for the relative error_, $|\\delta x|\\leq \\epsilon$. Now the phrase $\\epsilon$ is small unambiguous, as it doesn't depend on whether or not $x$ is large. Sometimes, when defining the relative error, we can also use $\\tilde{x}$ instead of $x$ in the denominator, since the exact value may be unknown. "
   ]
  },
  {
   "cell_type": "markdown",
   "metadata": {},
   "source": [
    "## Error Propagation\n",
    "Now, we will explore what happens when we put together the error bounds for two numbers $a$ and $b$ to produce an error bound for a third number $x$, which is obtained from $a$ and $b$ via addition, subtraction, multiplication and division. \n",
    "\n",
    "### Addition and Subtraction\n",
    "Let $\\tilde{a}, \\tilde{b}$ be the approximate values for $a, b$. We can write\n",
    "$\\tilde{a} = a+\\Delta a$, $\\tilde{b}= b+\\Delta b$. Thes, we have\n",
    "$$\n",
    "\\Delta x = \\tilde{x} - x = (a+\\Delta a \\pm (b + \\Delta b)) - (a \\pm b) = \\Delta a \\pm \\Delta b.\n",
    "$$\n",
    "Thus, \n",
    "$$\n",
    "|\\Delta x|  = |\\Delta a \\pm \\Delta b| \\leq |\\Delta a|  + |\\Delta b|.\n",
    "$$\n",
    "\n",
    "This leads to the conclusion that _in addition and subtraction adding together the bounds for the absolute errorsin the two numbers gi ves us the bound for the absolute error in the result_. "
   ]
  },
  {
   "cell_type": "markdown",
   "metadata": {},
   "source": [
    "### Catastrophic Cancellation\n",
    "Let us examine the special case: $a\\simeq b$. Let us work out the subtraction case $x = a - b$. The relative error of $x$ is bounded as\n",
    "$$\n",
    "|\\delta x | = \\left|\\frac{\\Delta x }{x} \\right| \\leq \\frac{|\\Delta a | + |\\Delta b|}{|a - b|}.\n",
    "$$\n",
    "As $\\Delta a = a\\delta a$, $\\Delta b = b\\delta b = a \\frac{b}{a}\\delta b$, the above condition becomes\n",
    "$$\n",
    "|\\delta x|\\leq (|\\delta a| + \\frac{|b|}{|a|}|\\delta b|)\\frac{|a|}{|a - b|}.\n",
    "$$\n",
    "Since $a\\simeq b$, we have that $|a-b| \\ll |a|$, which implies that $\\frac{|a|}{|a - b|} \\gg 1$. On the other hand, we have $\\frac{|b|}{|a|}\\simeq 1$, and thus on the right hand side of the above inequality, the relative error bound of $x$ is $(|\\delta a|+ |\\delta b|)$ multiplied by a very large factor, namely the relative error is greatly manified. \n",
    "\n",
    "__Example__: Consider two numbers $a= 1.251$ and $b=1.239$. We approximate them as 1.25 and 1.24, respectively. The reiative error for these approximations are $\\delta a = -0.0008$ and $\\delta b = 0.0008$. Consider $x = a - b = 0.012$. If we use the approximate values, we get $\\tilde{x} = 0.01$, and the relative error is $\\delta x = -0.002/0.012 = -0.167$. \n",
    "We see that $|\\delta x| \\gg |\\delta a|, |\\delta b|$."
   ]
  },
  {
   "cell_type": "markdown",
   "metadata": {},
   "source": [
    "### Multiplication or Division\n",
    "Let $x = ab$, and $\\tilde{x} = \\tilde{a}\\tilde{b}$. Using the definitions, we have $\\tilde{a}= a(1+\\delta a)$, $\\tilde{b} = b(1+\\delta b)$.\n",
    "These give\n",
    "$$\n",
    "\\delta x = \\frac{\\tilde{x} - x}{x} = \\frac{\\tilde{a}\\tilde{b} - ab}{ab} \n",
    "= \\frac{a(1+\\delta a)b(1+\\delta b) - ab}{ab} = \\delta a + \\delta b,\n",
    "$$\n",
    "where in the last equality we dropped the term $\\delta a \\delta b$ since it is product of two error terms. To derive an error bound, we take the absolute value and obtain\n",
    "$$\n",
    "|\\delta x | \\leq |\\delta a| + |\\delta b|.\n",
    "$$"
   ]
  },
  {
   "cell_type": "markdown",
   "metadata": {},
   "source": [
    "### General Error Propagation: Functions of One Variable\n",
    "Consider $y = f(x)$. We can calculate\n",
    "$$\n",
    "\\begin{align*}\n",
    "\\Delta y &= f(\\tilde{x}) - f(x) = f(x + \\Delta x) - f(x) \\\\\n",
    "& \\simeq \\frac{d f(x)}{dx} (\\tilde{x} - x),\n",
    "\\end{align*}\n",
    "$$\n",
    "where we have dropped higher order terms of $\\Delta x$.\n",
    "For the relative error, we have\n",
    "$$\n",
    "\\delta y = \\frac{x}{f(x)} \\frac{d f(x)}{dx} \\delta x.\n",
    "$$"
   ]
  },
  {
   "cell_type": "markdown",
   "metadata": {},
   "source": [
    "### General Error Propagation: Functions of Many Variables\n",
    "Consider a function of multiple variables, $y = f(x_0, x_1, \\dots, x_{n-1})$.\n",
    "One can show that \n",
    "$$\n",
    "\\Delta y = \\sum_{i = 0}^{n-1} \\frac{\\partial f}{\\partial x_i} \\Delta x_i.\n",
    "$$\n",
    "For relative errors, we have\n",
    "$$\n",
    "\\delta y = \\sum_{i = 0}^{n-1} \\frac{x_i}{f(x_0,\\dots,x_{n-1})} \\frac{\\partial f}{\\partial x_i} \\delta x_i.\n",
    "$$"
   ]
  },
  {
   "cell_type": "markdown",
   "metadata": {},
   "source": [
    "#  Representing Real Numbers\n",
    "In the following we will be focusing on the roundoff errors, which is due to finite-digit float number representation on a computer. \n",
    "\n",
    "## Basics\n",
    "Computers use electrical circuits, which communicate using signals. The simplest such signals are _on_ and _off_. These wo possibilities are known as _binary digit_ or _bit_, represented by 0 or 1. All types of numbers are stored in binary form, as collections of 0s and 1s. \n",
    "\n",
    "In Python, integers actually have unlimited precision, so we won't have to worry about them. We will be focusing on the real numbers, which are stored using the _floating-point representation_ in computers, with the general form\n",
    "$$\n",
    " \\pm \\mathrm{mantissa} \\times 10^{\\mathrm{exponent}}.\n",
    "$$\n",
    "For example, one can represent the speed of light in vaccumm as $+2.99792458 \\times 10^8 \\mathrm{m/s}$.\n",
    "\n",
    "Computer only store a finite number of bits, so cannot store exactly all possible real numbers. In other words, there are only finitely many exact representations/_machine numbers_, which fall into two categories: _normal_ and _subnormal_ numbers. There are three ways of losing precision, as shown in @fig-float-number: _underflow_ for very small numbers, _overflow_ for very large (in absolute value) numbers, and _rounding_ for decimal numbers whose value falls between two exactly representable numbers.  \n",
    "\n",
    "![Illustration of exactly representable floating-point numbers](float_number.png){#fig-float-number}\n",
    "\n",
    "Python uses _double-precision floating point numbers_, also known as _doubles_, whose storage uses 64 bits in total. \n",
    "Doubles can represent \n",
    "$$\n",
    "\\pm 4.9 \\times 10^{-324} \\leftrightarrow \\pm 1.8 \\times 10^{308}.\n",
    "$$\n",
    "\n",
    "The number of significant digits (precision) is 15 or 16 decimal digits for doubles. "
   ]
  },
  {
   "cell_type": "code",
   "execution_count": 10,
   "metadata": {},
   "outputs": [
    {
     "name": "stdout",
     "output_type": "stream",
     "text": [
      "0 4.49423283715579e+307\n",
      "1 8.98846567431158e+307\n",
      "2 inf\n"
     ]
    }
   ],
   "source": [
    "# Overflow\n",
    "large = 2.**1021\n",
    "for i in range(3):\n",
    "    large *= 2\n",
    "    print(i,large)"
   ]
  },
  {
   "cell_type": "code",
   "execution_count": 14,
   "metadata": {},
   "outputs": [
    {
     "name": "stdout",
     "output_type": "stream",
     "text": [
      "0 1.0000000000000004 4.440892098500626e-16\n",
      "1 1.0000000000000002 2.220446049250313e-16\n",
      "2 1.0 1.1102230246251565e-16\n"
     ]
    }
   ],
   "source": [
    "# rounding\n",
    "small = 1/2**50\n",
    "for i in range(3):\n",
    "    small /= 2\n",
    "    print(i, 1+small, small)"
   ]
  },
  {
   "cell_type": "markdown",
   "metadata": {},
   "source": [
    "## Revisiting Subtraction\n",
    "We know that\n",
    "$$\n",
    "\\begin{align*}\n",
    "&1.2345678912345678912−1.2345678900000000000\\\\\n",
    "&= 0.0000000012345678912 \\\\\n",
    "&= 1.2345678912 \\times 10^{-9}\n",
    "\\end{align*}\n",
    "$$\n",
    "Let us in the following do it in Python. "
   ]
  },
  {
   "cell_type": "code",
   "execution_count": 15,
   "metadata": {},
   "outputs": [
    {
     "data": {
      "text/plain": [
       "1.234568003383174e-09"
      ]
     },
     "execution_count": 15,
     "metadata": {},
     "output_type": "execute_result"
    }
   ],
   "source": [
    " 1.2345678912345678912 - 1.2345678900000000000"
   ]
  },
  {
   "cell_type": "markdown",
   "metadata": {},
   "source": [
    "We see that the last few digits do not match the exact result. This is because of finite precision of the floating number storage (only up to 16 digits). "
   ]
  },
  {
   "cell_type": "markdown",
   "metadata": {},
   "source": [
    "## Comparing Floats\n",
    "Only machine numbers are represented exactly, and other numbers are rounded to the nearest machine number. Thus, we should never compare floating-point variables $\\tilde{x}$ and $\\tilde{y}$ for equality. See the following example."
   ]
  },
  {
   "cell_type": "code",
   "execution_count": 18,
   "metadata": {},
   "outputs": [
    {
     "name": "stdout",
     "output_type": "stream",
     "text": [
      "False\n",
      "0.30000000000000004 0.3\n"
     ]
    }
   ],
   "source": [
    "xt = 0.1 + 0.2\n",
    "yt = 0.3\n",
    "print(xt == yt)\n",
    "print(xt, yt)"
   ]
  },
  {
   "cell_type": "markdown",
   "metadata": {},
   "source": [
    "The proper way should be to evaluate `abs(xt - yt)`, where `abs()` denotes the absolute value. As long as this value is small, we can say `xt` and `yt` should be the same. "
   ]
  },
  {
   "cell_type": "code",
   "execution_count": 21,
   "metadata": {},
   "outputs": [
    {
     "name": "stdout",
     "output_type": "stream",
     "text": [
      "5.551115123125783e-17\n",
      "True\n"
     ]
    }
   ],
   "source": [
    "print(abs(xt - yt))\n",
    "print(abs(xt - yt)<1e-12)"
   ]
  },
  {
   "cell_type": "code",
   "execution_count": 23,
   "metadata": {},
   "outputs": [
    {
     "name": "stdout",
     "output_type": "stream",
     "text": [
      "1.0999999999999999\n",
      "1.1\n",
      "====================================\n",
      "1.0\n",
      "0.0\n"
     ]
    }
   ],
   "source": [
    "#######################################\n",
    "# More examples\n",
    "#######################################\n",
    "# First example\n",
    "print(0.7 + 0.1 + 0.3)\n",
    "print(0.7 + (0.1 + 0.3))\n",
    "print('====================================')\n",
    "# Second example\n",
    "xt = 1.e20\n",
    "yt = -1.e20\n",
    "zt = 1.\n",
    "print(xt + yt + zt)\n",
    "print(xt + (yt + zt))"
   ]
  },
  {
   "cell_type": "markdown",
   "metadata": {},
   "source": [
    "In the above second example, if we first add up `xt` and `yt`, they cancel to 0 and then we simply get 1. On the other hand, if we first add `yt` and `zt`, we won't get the small contribution of `zt` to the large value `yt`, and thus we will have \"yt + zt = yt\". That's why we at last get 0. "
   ]
  },
  {
   "cell_type": "markdown",
   "metadata": {},
   "source": [
    "# Naive vs Manipulated Expressions\n",
    "We will now show how easy it is to lose accuracy if one is not careful, and how straightforward it is to carry out an anlytical manipulation that avoids the problem. \n",
    "\n",
    "The task at hand is to evaluate \n",
    "$$\n",
    "f(x) = \\frac{1}{\\sqrt{x^2 + 1} - x}\n",
    "$$\n",
    "at large values of $x$.\n",
    "\n",
    "We will use the following list comprehension code."
   ]
  },
  {
   "cell_type": "code",
   "execution_count": 25,
   "metadata": {},
   "outputs": [
    {
     "name": "stdout",
     "output_type": "stream",
     "text": [
      "10000 19999.99977764674\n",
      "100000 200000.22333140278\n",
      "1000000 1999984.77112922\n",
      "10000000 19884107.85185185\n"
     ]
    },
    {
     "ename": "ZeroDivisionError",
     "evalue": "float division by zero",
     "output_type": "error",
     "traceback": [
      "\u001b[1;31m---------------------------------------------------------------------------\u001b[0m",
      "\u001b[1;31mZeroDivisionError\u001b[0m                         Traceback (most recent call last)",
      "\u001b[1;32mc:\\Users\\pengy\\OneDrive - California State University, Northridge\\Teaching\\CSUN\\2022\\PHYS490\\week2\\week2.ipynb Cell 24\u001b[0m in \u001b[0;36m<cell line: 11>\u001b[1;34m()\u001b[0m\n\u001b[0;32m      <a href='vscode-notebook-cell:/c%3A/Users/pengy/OneDrive%20-%20California%20State%20University%2C%20Northridge/Teaching/CSUN/2022/PHYS490/week2/week2.ipynb#ch0000032?line=7'>8</a>\u001b[0m \u001b[39mfor\u001b[39;00m x, y \u001b[39min\u001b[39;00m \u001b[39mzip\u001b[39m(xs, ys):\n\u001b[0;32m      <a href='vscode-notebook-cell:/c%3A/Users/pengy/OneDrive%20-%20California%20State%20University%2C%20Northridge/Teaching/CSUN/2022/PHYS490/week2/week2.ipynb#ch0000032?line=8'>9</a>\u001b[0m     \u001b[39mprint\u001b[39m(x, y)\n\u001b[1;32m---> <a href='vscode-notebook-cell:/c%3A/Users/pengy/OneDrive%20-%20California%20State%20University%2C%20Northridge/Teaching/CSUN/2022/PHYS490/week2/week2.ipynb#ch0000032?line=10'>11</a>\u001b[0m \u001b[39mprint\u001b[39m(naiveval(\u001b[39m1e8\u001b[39;49m))\n",
      "\u001b[1;32mc:\\Users\\pengy\\OneDrive - California State University, Northridge\\Teaching\\CSUN\\2022\\PHYS490\\week2\\week2.ipynb Cell 24\u001b[0m in \u001b[0;36mnaiveval\u001b[1;34m(x)\u001b[0m\n\u001b[0;32m      <a href='vscode-notebook-cell:/c%3A/Users/pengy/OneDrive%20-%20California%20State%20University%2C%20Northridge/Teaching/CSUN/2022/PHYS490/week2/week2.ipynb#ch0000032?line=2'>3</a>\u001b[0m \u001b[39mdef\u001b[39;00m \u001b[39mnaiveval\u001b[39m(x):\n\u001b[1;32m----> <a href='vscode-notebook-cell:/c%3A/Users/pengy/OneDrive%20-%20California%20State%20University%2C%20Northridge/Teaching/CSUN/2022/PHYS490/week2/week2.ipynb#ch0000032?line=3'>4</a>\u001b[0m     \u001b[39mreturn\u001b[39;00m \u001b[39m1\u001b[39;49m\u001b[39m/\u001b[39;49m(sqrt(x\u001b[39m*\u001b[39;49m\u001b[39m*\u001b[39;49m\u001b[39m2\u001b[39;49m \u001b[39m+\u001b[39;49m \u001b[39m1\u001b[39;49m) \u001b[39m-\u001b[39;49m x)\n",
      "\u001b[1;31mZeroDivisionError\u001b[0m: float division by zero"
     ]
    }
   ],
   "source": [
    "from math import sqrt\n",
    "\n",
    "def naiveval(x):\n",
    "    return 1/(sqrt(x**2 + 1) - x)\n",
    "\n",
    "xs = [10**i for i in range(4,8)] \n",
    "ys = [naiveval(x) for x in xs] \n",
    "for x, y in zip(xs, ys):\n",
    "    print(x, y)\n",
    "\n",
    "print(naiveval(1e8))"
   ]
  },
  {
   "cell_type": "markdown",
   "metadata": {},
   "source": [
    "The answer appears to be getting increasingly worse as the x is increased. If you test $x = 10^8$, you even get an error `ZeroDivisionError`, because $\\sqrt{x^2 +1}\\simeq x$ when $x$ is large. We are having an issue of subtracting two large but nearly identical numbers. \n",
    "\n",
    "An easy way to avoid this issue is to manipulate the original expression\n",
    "$$\n",
    "f(x) = \\frac{\\sqrt{x^2 +1 } + x}{(\\sqrt{x^2 +1} - x)(\\sqrt{x^2 +1} +x)} = \\sqrt{x^2 +1} + x.\n",
    "$$\n",
    "This expression has no issue of large number subtraction. When $x\\gg 1$, essentially we have $\\sqrt{x^2 +1} +x \\simeq 2x$. In the following code, you see the result is very robust on any values of $x$. "
   ]
  },
  {
   "cell_type": "code",
   "execution_count": 27,
   "metadata": {},
   "outputs": [
    {
     "name": "stdout",
     "output_type": "stream",
     "text": [
      "10000 20000.000050000002\n",
      "100000 200000.00000499998\n",
      "1000000 2000000.0000005001\n",
      "10000000 20000000.000000052\n",
      "200000000.0\n"
     ]
    }
   ],
   "source": [
    "from math import sqrt\n",
    "\n",
    "def neweval(x):\n",
    "    return sqrt(x**2 + 1) + x\n",
    "\n",
    "xs = [10**i for i in range(4,8)] \n",
    "ys = [neweval(x) for x in xs] \n",
    "for x, y in zip(xs, ys):\n",
    "    print(x, y)\n",
    "\n",
    "print(neweval(1e8))"
   ]
  },
  {
   "cell_type": "markdown",
   "metadata": {},
   "source": [
    "# Computing the Exponential Function\n",
    "We want to compute the exponential function (assuming we have no access to the math library), by using the Taylor series: \n",
    "$$\n",
    "e^x = 1 + x + \\frac{x^2}{2!} + \\frac{x^3}{3!} + \\cdots.\n",
    "$$\n",
    "We shall approximate this expansion by keeping only the terms up to $n_{max}$:\n",
    "$$\n",
    "e^x \\simeq \\sum_{n=0}^{n_{max}} \\frac{x^n}{n!}.\n",
    "$$\n",
    "\n",
    "A naive implementation by directly computing the powers of $x$ divided by the increasingly large factorial suffers from two problems:\n",
    "\n",
    "a. calculating the power and the factorial is costly\n",
    "a. both $x^n$ and $n!$ can become very large numbers (potentially overflowing) even though their ratio can be quite small\n",
    "\n",
    "Alternatively, we notice that the $n$-th term and $(n-1)$-th term are related:\n",
    "$$\n",
    "\\frac{x^n}{n!} = \\frac{x}{n}\\frac{x^{n-1}}{(n-1)!}.\n",
    "$$\n",
    "Thus, we can get the new term by multiplying the old term by $x/n$. We see that if $x>n$, the magnitude of the term grows. \n",
    "\n",
    "How should we determine the value of $n_{nmax}$, namely when should we stop without going to the next term? \n",
    "We will terminate the loop when it is determined that adding the $n$-th term to the running total doesn’t change the sum. See the following code."
   ]
  },
  {
   "cell_type": "code",
   "execution_count": 28,
   "metadata": {},
   "outputs": [
    {
     "name": "stdout",
     "output_type": "stream",
     "text": [
      "x, library exp(x): 0.1 1.1051709180756477\n",
      "1 1.1 0.1\n",
      "2 1.105 0.005000000000000001\n",
      "3 1.1051666666666666 0.0001666666666666667\n",
      "4 1.1051708333333332 4.166666666666668e-06\n",
      "5 1.1051709166666666 8.333333333333335e-08\n",
      "6 1.1051709180555553 1.3888888888888892e-09\n",
      "7 1.1051709180753966 1.9841269841269846e-11\n",
      "8 1.1051709180756446 2.480158730158731e-13\n",
      "9 1.1051709180756473 2.75573192239859e-15\n",
      "10 1.1051709180756473 2.75573192239859e-17\n",
      "x, library exp(x): 20.0 485165195.4097903\n",
      "1 21.0 20.0\n",
      "2 221.0 200.0\n",
      "3 1554.3333333333335 1333.3333333333335\n",
      "4 8221.000000000002 6666.666666666668\n",
      "5 34887.66666666667 26666.66666666667\n",
      "6 123776.55555555558 88888.8888888889\n",
      "7 377744.8095238096 253968.25396825402\n",
      "8 1012665.4444444446 634920.634920635\n",
      "9 2423600.1887125224 1410934.744268078\n",
      "10 5245469.677248678 2821869.488536156\n",
      "11 10376141.474587142 5130671.797338465\n",
      "12 18927261.136817917 8551119.662230777\n",
      "13 32082829.84794219 13155568.711124273\n",
      "14 50876499.435262576 18793669.58732039\n",
      "15 75934725.55168976 25058226.116427187\n",
      "16 107257508.19722374 31322782.645533983\n",
      "17 144107840.72138137 36850332.52415763\n",
      "18 185052654.63711208 40944813.9157307\n",
      "19 228152458.75893387 43099804.12182178\n",
      "20 271252262.88075566 43099804.12182178\n",
      "21 312299695.3777288 41047432.49697313\n",
      "22 349615543.10224986 37315847.724521026\n",
      "23 382064106.3409638 32448563.238713935\n",
      "24 409104575.7065587 27040469.365594946\n",
      "25 430736951.1990347 21632375.492475957\n",
      "26 447377240.0394008 16640288.840366121\n",
      "27 459703379.9211535 12326139.881752681\n",
      "28 468507765.5509768 8804385.629823344\n",
      "29 474579755.64051014 6071990.089533341\n",
      "30 478627749.0335324 4047993.393022227\n",
      "31 481239357.6741919 2611608.6406595013\n",
      "32 482871613.0746041 1632255.4004121884\n",
      "33 483860858.7718236 989245.6972195081\n",
      "34 484442768.00548214 581909.2336585342\n",
      "35 484775287.5675727 332519.562090591\n",
      "36 484960020.65762305 184733.09005032835\n",
      "37 485059876.3819746 99855.72435152884\n",
      "38 485112432.0263701 52555.644395541494\n",
      "39 485139383.63888067 26951.612510534098\n",
      "40 485152859.44513595 13475.806255267049\n",
      "41 485159433.0091629 6573.564026959536\n",
      "42 485162563.27774715 3130.2685842664455\n",
      "43 485164019.21662354 1455.938876402998\n",
      "44 485164681.0070219 661.7903983649991\n",
      "45 485164975.13608783 294.1290659399996\n",
      "46 485165103.0182904 127.88220258260851\n",
      "47 485165157.43624896 54.41795854579086\n",
      "48 485165180.11039835 22.674149394079524\n",
      "49 485165189.3651532 9.254754854726336\n",
      "50 485165193.0670551 3.701901941890535\n",
      "51 485165194.51878136 1.4517262517217784\n",
      "52 485165195.0771376 0.5583562506622225\n",
      "53 485165195.28783804 0.2107004719480085\n",
      "54 485165195.36587524 0.07803721183259574\n",
      "55 485165195.3942524 0.028377167939125723\n",
      "56 485165195.4043871 0.010134702835402045\n",
      "57 485165195.4079431 0.0035560360825972084\n",
      "58 485165195.4091694 0.0012262193388266236\n",
      "59 485165195.40958506 0.0004156675724836012\n",
      "60 485165195.40972364 0.00013855585749453372\n",
      "61 485165195.40976906 4.542814999820777e-05\n",
      "62 485165195.4097837 1.4654241934905732e-05\n",
      "63 485165195.40978837 4.65214029679547e-06\n",
      "64 485165195.4097898 1.4537938427485845e-06\n",
      "65 485165195.4097903 4.4732118238417985e-07\n",
      "66 485165195.4097904 1.3555187344975148e-07\n",
      "67 485165195.40979046 4.046324580589596e-08\n",
      "68 485165195.40979046 1.1900954648792928e-08\n",
      "x, library exp(x): -20.0 2.061153622438558e-09\n",
      "1 -19.0 -20.0\n",
      "2 181.0 200.0\n",
      "3 -1152.3333333333335 -1333.3333333333335\n",
      "4 5514.333333333334 6666.666666666668\n",
      "5 -21152.333333333336 -26666.66666666667\n",
      "6 67736.55555555556 88888.8888888889\n",
      "7 -186231.69841269846 -253968.25396825402\n",
      "8 448688.93650793657 634920.634920635\n",
      "9 -962245.8077601413 -1410934.744268078\n",
      "10 1859623.6807760145 2821869.488536156\n",
      "11 -3271048.116562451 -5130671.797338465\n",
      "12 5280071.545668326 8551119.662230777\n",
      "13 -7875497.165455947 -13155568.711124273\n",
      "14 10918172.421864444 18793669.58732039\n",
      "15 -14140053.694562742 -25058226.116427187\n",
      "16 17182728.95097124 31322782.645533983\n",
      "17 -19667603.57318639 -36850332.52415763\n",
      "18 21277210.34254431 40944813.9157307\n",
      "19 -21822593.779277474 -43099804.12182178\n",
      "20 21277210.34254431 43099804.12182178\n",
      "21 -19770222.154428817 -41047432.49697313\n",
      "22 17545625.57009221 37315847.724521026\n",
      "23 -14902937.668621726 -32448563.238713935\n",
      "24 12137531.69697322 27040469.365594946\n",
      "25 -9494843.795502737 -21632375.492475957\n",
      "26 7145445.044863384 16640288.840366121\n",
      "27 -5180694.836889297 -12326139.881752681\n",
      "28 3623690.792934047 8804385.629823344\n",
      "29 -2448299.296599294 -6071990.089533341\n",
      "30 1599694.096422933 4047993.393022227\n",
      "31 -1011914.5442365683 -2611608.6406595013\n",
      "32 620340.8561756201 1632255.4004121884\n",
      "33 -368904.841043888 -989245.6972195081\n",
      "34 213004.39261464623 581909.2336585342\n",
      "35 -119515.16947594477 -332519.562090591\n",
      "36 65217.92057438358 184733.09005032835\n",
      "37 -34637.803777145265 -99855.72435152884\n",
      "38 17917.84061839623 52555.644395541494\n",
      "39 -9033.77189213787 -26951.612510534098\n",
      "40 4442.03436312918 13475.806255267049\n",
      "41 -2131.529663830356 -6573.564026959536\n",
      "42 998.7389204360893 3130.2685842664455\n",
      "43 -457.19995596690865 -1455.938876402998\n",
      "44 204.59044239809043 661.7903983649991\n",
      "45 -89.53862354190915 -294.1290659399996\n",
      "46 38.34357904069937 127.88220258260851\n",
      "47 -16.074379505091493 -54.41795854579086\n",
      "48 6.599769888988032 22.674149394079524\n",
      "49 -2.6549849657383042 -9.254754854726336\n",
      "50 1.0469169761522306 3.701901941890535\n",
      "51 -0.4048092755695478 -1.4517262517217784\n",
      "52 0.15354697509267468 0.5583562506622225\n",
      "53 -0.05715349685533383 -0.2107004719480085\n",
      "54 0.020883714977261908 0.07803721183259574\n",
      "55 -0.007493452961863815 -0.028377167939125723\n",
      "56 0.0026412498735382296 0.010134702835402045\n",
      "57 -0.0009147862090589788 -0.0035560360825972084\n",
      "58 0.00031143312976764483 0.0012262193388266236\n",
      "59 -0.00010423444271595637 -0.0004156675724836012\n",
      "60 3.432141477857734e-05 0.00013855585749453372\n",
      "61 -1.1106735219630428e-05 -4.542814999820777e-05\n",
      "62 3.5475067152753046e-06 1.4654241934905732e-05\n",
      "63 -1.1046335815201656e-06 -4.65214029679547e-06\n",
      "64 3.491602612284189e-07 1.4537938427485845e-06\n",
      "65 -9.816092115576097e-08 -4.4732118238417985e-07\n",
      "66 3.73909522939905e-08 1.3555187344975148e-07\n",
      "67 -3.0722935119054536e-09 -4.046324580589596e-08\n",
      "68 8.828661136887475e-09 1.1900954648792928e-08\n",
      "69 5.379109064773582e-09 -3.449552072113892e-09\n",
      "70 6.364695371091837e-09 9.855863063182549e-10\n",
      "71 6.0870654256500746e-09 -2.7762994544176197e-10\n",
      "72 6.164184854939453e-09 7.711942928937833e-11\n",
      "73 6.1430562441752395e-09 -2.112861076421324e-11\n",
      "74 6.148766679516919e-09 5.710435341679254e-12\n",
      "75 6.147243896759137e-09 -1.5227827577811344e-12\n",
      "76 6.147644629063816e-09 4.007323046792459e-13\n",
      "77 6.147540542750912e-09 -1.0408631290370022e-13\n",
      "78 6.147567231549093e-09 2.668879818043595e-14\n",
      "79 6.147560474891326e-09 -6.756657767198975e-15\n",
      "80 6.147562164055767e-09 1.6891644417997438e-15\n",
      "81 6.147561746978127e-09 -4.17077639950554e-16\n",
      "82 6.147561848704381e-09 1.0172625364647659e-16\n",
      "83 6.147561824192031e-09 -2.4512350276259418e-17\n",
      "84 6.147561830028305e-09 5.836273875299861e-18\n",
      "85 6.147561828655064e-09 -1.3732409118352614e-18\n",
      "86 6.147561828974423e-09 3.1935835158959566e-19\n",
      "87 6.147561828901007e-09 -7.341571300910245e-20\n",
      "88 6.147561828917692e-09 1.6685389320250557e-20\n",
      "89 6.147561828913943e-09 -3.749525689943945e-21\n",
      "90 6.147561828914776e-09 8.332279310986544e-22\n",
      "91 6.147561828914593e-09 -1.8312701782388008e-22\n",
      "92 6.147561828914633e-09 3.9810221266060887e-23\n",
      "93 6.147561828914624e-09 -8.56133790667976e-24\n",
      "94 6.147561828914626e-09 1.8215612567403748e-24\n",
      "95 6.147561828914626e-09 -3.8348658036639467e-25\n"
     ]
    }
   ],
   "source": [
    "from math import exp\n",
    "\n",
    "def compexp(x):\n",
    "    n = 0\n",
    "    oldsum, newsum, term = 0., 1., 1.\n",
    "    while newsum != oldsum:\n",
    "        oldsum = newsum\n",
    "        n += 1\n",
    "        term *= x/n\n",
    "        newsum += term\n",
    "        print(n, newsum, term)\n",
    "    return newsum\n",
    "\n",
    "for x in (0.1, 20., -20.):\n",
    "    print(\"x, library exp(x):\", x, exp(x))\n",
    "    val = compexp(x)"
   ]
  },
  {
   "cell_type": "markdown",
   "metadata": {},
   "source": [
    "- We see that when $x$ is small ($x=0.1$), the terms in the sum becomes smaller and smaller. The convergence was reached with only 10 loops.\n",
    "\n",
    "- For $x=20$, it requires significantly more loops to reach convergence. Comparing our final answer and the `math` library `exp()` function, we find agreement in 15 decimal digits. \n",
    "\n",
    "- For $x = -20$, our result and the one from `exp()` function only match in order of magnitude, but there is no decimal digits agreeing. \n",
    "\n",
    "The problem in the case $x=-20$ is that each term is accurate only up to 16 digits, namely the relative error is $10^{-16}$. The largest term in this case is of order $10^8$, which means the absolute error for the result will be at least $10^8 \\times 10^{-16} = 10^{-8}$.\n",
    "Since the final result is of order $10^{-9}$, which means we will have $10\\%$ relative error and thus the result should not be trusted. For the $x=20$ case, the absolute error is still $10^{-8}$ but the final result is of order $10^8$, thus the relative error is only $10^{-16}$.\n",
    "\n",
    "To avoid this issue for negative $x$, we can actually manipulate the expression, by writing\n",
    "$$\n",
    "e^{-x} = 1/e^x.\n",
    "$$\n",
    "Taking inverse will not change the number of significant digits and thus we won't lose accuracy. \n"
   ]
  },
  {
   "cell_type": "markdown",
   "metadata": {},
   "source": [
    "# An Even Worse Case: Recursion\n",
    "Here, we will examine the problem of recursion, where even a tiny error in the starting expression can be multiplied by the factorial of a large numbe.\n",
    "The task is to evaluate the integral of the form\n",
    "$$\n",
    "f(n)= \\int_0^1 x^n e^{-x} dx.\n",
    "$$\n",
    "\n",
    "We can use integration by parts, to manipulate the above expression\n",
    "$$\n",
    "\\begin{align*}\n",
    "f(n) &= -\\int_0^1 x^n d(e^{-x}) = -e^{-1} + n\\int_0^1 x^{n-1}e^{-x}\\\\\n",
    "&= nf(n-1)-e^{-1}.\n",
    "\\end{align*}\n",
    "$$\n",
    "Particularly, we have $f(0)=1-e^{-1}$. We can implement the above recursion relation.\n"
   ]
  },
  {
   "cell_type": "code",
   "execution_count": 29,
   "metadata": {},
   "outputs": [
    {
     "name": "stdout",
     "output_type": "stream",
     "text": [
      "n = 20 answer is 0.0183504676972562\n",
      "n, f[n]\n",
      "0 0.6321205588285577\n",
      "1 0.26424111765711533\n",
      "2 0.16060279414278833\n",
      "3 0.11392894125692266\n",
      "4 0.08783632385624829\n",
      "5 0.07130217810979911\n",
      "6 0.059933627487352314\n",
      "7 0.05165595124002387\n",
      "8 0.045368168748748605\n",
      "9 0.04043407756729511\n",
      "10 0.03646133450150879\n",
      "11 0.033195238345154365\n",
      "12 0.03046341897041005\n",
      "13 0.028145005443888316\n",
      "14 0.026150635042994086\n",
      "15 0.024380084473468955\n",
      "16 0.022201910404060943\n",
      "17 0.009553035697593693\n",
      "18 -0.19592479861475587\n",
      "19 -4.090450614851804\n",
      "20 -82.17689173820752\n"
     ]
    }
   ],
   "source": [
    "from math import exp\n",
    "\n",
    "def forward(nmax=22):\n",
    "    oldint = 1 - exp(-1)\n",
    "    for n in range(1,nmax):\n",
    "        print(n-1, oldint)\n",
    "        newint = n*oldint - exp(-1)\n",
    "        oldint = newint\n",
    "\n",
    "print(\"n = 20 answer is 0.0183504676972562\")\n",
    "print(\"n, f[n]\")\n",
    "forward()"
   ]
  },
  {
   "cell_type": "markdown",
   "metadata": {},
   "source": [
    "As one can see, our result has a large error. This is because our evaluation contains $n f(n-1)$. It means any errors in $f(n-1)$ are magnified by a factor $n$, which can be large. \n",
    "\n",
    "The process we followed in the code above, starting at $n=0$ and building up to a finite $n$, is called _forward recursion_.\n",
    "This can be solved by a simple trick, using _backward recursion_. We can write\n",
    "$$\n",
    "f(n-1)  = \\frac{f(n)+e^{-1}}{n}.\n",
    "$$\n",
    "See the following code."
   ]
  },
  {
   "cell_type": "code",
   "execution_count": 30,
   "metadata": {},
   "outputs": [
    {
     "name": "stdout",
     "output_type": "stream",
     "text": [
      "n = 20 answer is 0.0183504676972562\n",
      "n, f[n]\n",
      "30 0.01\n",
      "29 0.012595981372381411\n",
      "28 0.013119842156683579\n",
      "27 0.013607117261718784\n",
      "26 0.014129131793820781\n",
      "25 0.01469263742174089\n",
      "24 0.015302883143727328\n",
      "23 0.015965930179798738\n",
      "22 0.016688929189184395\n",
      "21 0.01748038047093758\n",
      "20 0.018350467697256186\n"
     ]
    }
   ],
   "source": [
    "from math import exp\n",
    "\n",
    "def backward(nmax=31):\n",
    "    oldint = 0.01\n",
    "    for n in reversed(range(20,nmax)):\n",
    "        print(n, oldint)\n",
    "        newint = (oldint + exp(-1))/n\n",
    "        oldint = newint\n",
    "\n",
    "print(\"n = 20 answer is 0.0183504676972562\")\n",
    "print(\"n, f[n]\")\n",
    "backward()"
   ]
  },
  {
   "cell_type": "markdown",
   "metadata": {},
   "source": [
    "# Homework\n",
    "1. Show that the relative error bound for division $x = a/b$ is also \n",
    "$$\n",
    "|\\delta x|\\leq |\\delta a | + |\\delta b|\n",
    "$$\n",
    "2. Take the standard quadratic equation:\n",
    "    $$\n",
    "    ax^2 + bx + c = 0.\n",
    "    $$\n",
    "    The formula for the solutions of this equation is very well known:\n",
    "    $$\n",
    "    x_\\pm = \\frac{-b \\pm \\sqrt{b^2 - 4ac}}{2a}.\n",
    "    $${#eq-quadratic-formula}\n",
    "    Take $b>0$ for concreteness.  It is easy to see that when $b^2 \\gg ac$, we don't get a catastrophic cancellation when evaluating $b^2 - 4ac$. Furthermore, $\\sqrt{b^2 - 4ac} \\simeq b$. This means that $x_+$ will involve catastrophic cancellation in the numerator. <br/>\n",
    "\n",
    "    We will employ an analytical trick in order to help us preserve significant figures. Observe that the product of the two roots obeys the relation:\n",
    "    $$\n",
    "    x_+ x_- = \\frac{c}{a}.\n",
    "    $${#eq-xpxm}\n",
    "\n",
    "    Now, we should use @eq-quadratic-formula to calculate $x_-$. Then, we should use @eq-xpxm to calculate $x_+$, via division only. \n",
    "\n",
    "    Please write a Python code that evalutes and prints out (a). $x_-$, (b). $x_+$ using the \"bad\" formula, and (c). $x_+$ using the \"good\" formula. \n",
    "    Take $a=1$, $c=1$, $b = 10^8$. \n"
   ]
  },
  {
   "cell_type": "markdown",
   "metadata": {},
   "source": []
  },
  {
   "cell_type": "markdown",
   "metadata": {},
   "source": []
  }
 ],
 "metadata": {
  "interpreter": {
   "hash": "df1fa0d82bdabb5288f7efc0788d29c4d5bb5f690328690a3d32d2cd65de760c"
  },
  "kernelspec": {
   "display_name": "Python 3.10.4 ('default')",
   "language": "python",
   "name": "python3"
  },
  "language_info": {
   "codemirror_mode": {
    "name": "ipython",
    "version": 3
   },
   "file_extension": ".py",
   "mimetype": "text/x-python",
   "name": "python",
   "nbconvert_exporter": "python",
   "pygments_lexer": "ipython3",
   "version": "3.10.5"
  },
  "orig_nbformat": 4
 },
 "nbformat": 4,
 "nbformat_minor": 2
}
