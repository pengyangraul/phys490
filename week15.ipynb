{
 "cells": [
  {
   "cell_type": "markdown",
   "metadata": {},
   "source": [
    "---\n",
    "title: \"Differential Equations II\"\n",
    "subtitle: \"\"\n",
    "format: \n",
    "  html:\n",
    "    toc: true\n",
    "    code-fold: false\n",
    "    page-layout: full\n",
    "    fig-cap-location: bottom\n",
    "    number-sections: true\n",
    "    number-depth: 2\n",
    "    html-to-math: katex\n",
    "    html-math-method: katex\n",
    "    callout-appearance: minimal\n",
    "jupyter: python3\n",
    "---"
   ]
  },
  {
   "cell_type": "markdown",
   "metadata": {},
   "source": [
    "# Boundary-Value Problems\n",
    "Our prototypical _boundary-value problem (BVP)_ will be a second-order ODE:\n",
    "$$\n",
    "w''(x) = f(x,w,w'),\\quad w(a) = c, \\quad w(b) = d.\n",
    "$$\n",
    "Since $w'(a)$ is not given, this is not an initial value problem. Here, the function value at the other end $w(b)$ is given. This is known as the _Dirichlet boundary condition_.\n",
    "On the other hand, if $w'(b)$ is given instead, then we have the _Neumann boundary condition_.\n",
    "\n",
    "Below, we will discuss two general approaches to solving this BVP: (a) treat it as a more complicated version of an initial-value problem, or (b) use the fact that we\n",
    "know two boundary conditions and set up a method accordingly. We discuss these two approaches in turn.\n"
   ]
  }
 ],
 "metadata": {
  "kernelspec": {
   "display_name": "Python 3.10.6 ('default')",
   "language": "python",
   "name": "python3"
  },
  "language_info": {
   "codemirror_mode": {
    "name": "ipython",
    "version": 3
   },
   "file_extension": ".py",
   "mimetype": "text/x-python",
   "name": "python",
   "nbconvert_exporter": "python",
   "pygments_lexer": "ipython3",
   "version": "3.10.6"
  },
  "vscode": {
   "interpreter": {
    "hash": "df1fa0d82bdabb5288f7efc0788d29c4d5bb5f690328690a3d32d2cd65de760c"
   }
  }
 },
 "nbformat": 4,
 "nbformat_minor": 4
}
