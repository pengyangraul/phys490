{
 "cells": [
  {
   "cell_type": "markdown",
   "metadata": {},
   "source": [
    "---\n",
    "title: \"Derivatives II\"\n",
    "format: \n",
    "  html:\n",
    "    toc: true\n",
    "    code-fold: false\n",
    "    page-layout: full\n",
    "    fig-cap-location: bottom\n",
    "    number-sections: true\n",
    "    number-depth: 2\n",
    "    html-to-math: katex\n",
    "    html-math-method: katex\n",
    "jupyter: python3\n",
    "---"
   ]
  },
  {
   "cell_type": "markdown",
   "metadata": {},
   "source": [
    "#  Richardson Extrapolation\n",
    "We now turn to a nice technique, called _Richardson extrapolation_, which can be used to improve accuracy of a numerical algorithm. Here we apply it to finite-difference formulas,\n",
    "but its applicability is much wider.\n",
    "\n",
    "## General Formulation\n",
    "Assume your task is to evaluate the quantity $G$. Let's say that $G$ is the exact answer of the calculation that you are currently trying to carry out approximately. Your approximate answer $g(h)$ depends on a parameter $h$, which is typically an increment, or step size. We write\n",
    "$$\n",
    "G=g(h)+\\mathcal{E}_{app}(h).\n",
    "$$\n",
    "Note that we neglect the roundoff error because this procedure only reduces the approximation error.\n",
    "\n",
    "We will now make the (pretty widely applicable) assumption that the error term can be written as a sum of powers of $h$:\n",
    "$$\n",
    "G = g(h) + Ah^p + Bh^{p+q} + Ch^{p+2q} + \\cdots\n",
    "$${#eq-error-expansion}\n",
    "where $A$, $B$, $C$ are constants, $p$ denotes the order of the leading error term and $q$ is the increment in the order for the error terms after that.\n",
    "The idea behind Richardson extrapolation is to apply @eq-error-expansion twice, once for a step size $h$ and once for a step size $h/2$:\n",
    "$$\n",
    "\\begin{gather*}\n",
    "G = g(h) + Ah^p + O(h^{p+q}) \\\\\n",
    "G = g(h/2) + A\\left(\\frac{h}{2}\\right)^p + O(h^{p+q}).\n",
    "\\end{gather*}\n",
    "$$\n",
    "\n",
    "Equating the two right hand sides gives us\n",
    "$$\n",
    "g(h) + Ah^p = g(h/2) + A\\left(\\frac{h}{2}\\right)^p + O(h^{p+q}).\n",
    "$$\n",
    "We then have\n",
    "$$\n",
    "Ah^p  = \\frac{2^p}{2^p - 1} \\left[g(h/2) - g(h)\\right] + O(h^{p+q}).\n",
    "$$\n",
    "\n",
    "Thus, we have\n",
    "$$\n",
    "G = \\frac{2^pg(h/2)-g(h)}{2^p - 1} + O(h^{p+q}).\n",
    "$${#eq-extrapolate}\n",
    "This is called an _extrapolated value_.\n",
    "\n",
    "To summarize, we started with a formula with a leading error $O(h^p)$. We eliminate this error term by computing the function with the parameter $h$ and $h/2$, and we are left with the error $O(h^{p+q})$. We can proceed similarly, by making two calculations with leading error $O(h^{p+q})$ and then eliminate it again. "
   ]
  },
  {
   "cell_type": "markdown",
   "metadata": {},
   "source": [
    "## Finite Differences\n",
    "We now apply @eq-extrapolate to finite-difference formulas.\n",
    "\n",
    "### Forward Difference\n",
    "- We will use our first forward-difference formula\n",
    "$$\n",
    "D_{fd}(h) = \\frac{f(x+h) - f(x)}{h}.\n",
    "$$\n",
    "- The leading error is $O(h)$, meaning that $p=1$. \n",
    "- Richardson extrapolation will eliminate this error term, leaving us the $O(h^2)$ error\n",
    "- Applying @eq-extrapolate for $p=1$, gives\n",
    "$$\n",
    "\\begin{align}\n",
    "R_{fd} &= 2D_{fd}(h/2) - D_{fd}(h) + O(h^2) = 2\\frac{f(x+\\frac{h}{2}) - f(x)}{h/2} - \\frac{f(x+h) - f(x)}{h} + O(h^2) \\nonumber \\\\\n",
    "& = \\frac{4 f(x + \\frac{h}{2}) - f(x+h) - 3f(x)}{h} + O(h^2). \n",
    "\\end{align}\n",
    "$$\n",
    "- This result is _identical_ to the second forward-difference formula. "
   ]
  },
  {
   "cell_type": "markdown",
   "metadata": {},
   "source": [
    "### Central Difference\n",
    "We now apply the Richardson extrapolation to the central-difference formula,\n",
    "$$\n",
    "D_{cd}(h) = \\frac{f(x+h/2) - f(x - h/2)}{h}.\n",
    "$$\n",
    "- The leading error is $O(h^2)$, meaning $p = 2$.\n",
    "- Note that all error terms are of order $O(h^{2n})$ for $n\\in\\mathbb{Z}$, this means $q=2$.\n",
    "- Richardson formula will eliminate the leading error $O(h^2)$, giving rise to the next order of error $O(h^4)$.\n",
    "- Applying Richardson formula\n",
    "$$\n",
    "\\begin{align}\n",
    "R_{cd} &= \\frac{4}{3}D_{cd}(h/2) - \\frac{1}{3}D_{cd}(h) + O(h^4) \\nonumber \\\\\n",
    "&= \\frac{4}{3} \\frac{f(x+h/4)- f(x-h/4)}{h/2} - \\frac{1}{3}\\frac{f(x+h/2)-f(x-h/2)}{h} + O(h^4) \\nonumber \\\\\n",
    "&= \\frac{8f(x+h/4) + f(x-h/2) - (x+h/2) -8f(x-h/4)}{3h} + O(h^4).\n",
    "\\end{align}\n",
    "$$\n",
    "- This is _identical_ to the second central-difference formula."
   ]
  },
  {
   "cell_type": "markdown",
   "metadata": {},
   "source": [
    "### Numerical results"
   ]
  },
  {
   "cell_type": "code",
   "execution_count": 2,
   "metadata": {},
   "outputs": [
    {
     "name": "stdout",
     "output_type": "stream",
     "text": [
      "h     abs. err. rich fd  abs. err. rich cd\n",
      "1e-01 0.0259686059827384 0.0000098728370874\n",
      "1e-02 0.0002695720500006 0.0000000009897421\n",
      "1e-03 0.0000027005434182 0.0000000000011098\n",
      "1e-04 0.0000000270109117 0.0000000000043667\n",
      "1e-05 0.0000000003389138 0.0000000000280513\n",
      "1e-06 0.0000000006941852 0.0000000002500959\n"
     ]
    }
   ],
   "source": [
    "from math import exp, sin, cos, log10\n",
    "def f(x):\n",
    "    return exp(sin(2*x))\n",
    "\n",
    "def fprime(x):\n",
    "    return 2*exp(sin(2*x))*cos(2*x)\n",
    "\n",
    "def calc_fd(f,x,h):\n",
    "    fd = (f(x+h) - f(x))/h\n",
    "    return fd\n",
    "\n",
    "def calc_cd(f,x,h):\n",
    "    cd = (f(x+h/2) - f(x-h/2))/h\n",
    "    return cd\n",
    "if __name__ == '__main__':\n",
    "    x = 0.5\n",
    "    an = fprime(x) # Analytical result\n",
    "\n",
    "    hs = [10**(-i) for i in range(1,7)]\n",
    "\n",
    "    rowf = \"{0:1.0e} {1:1.16f} {2:1.16f}\"\n",
    "    print(\"h     abs. err. rich fd  abs. err. rich cd\")\n",
    "    for h in hs:\n",
    "        fdrich = 2*calc_fd(f,x,h/2) - calc_fd(f,x,h) # forward-difference Richardson\n",
    "        fd = abs(fdrich-an) \n",
    "        cdrich = (4*calc_cd(f,x,h/2) - calc_cd(f,x,h))/3 # -difference Richardson\n",
    "        cd = abs(cdrich-an)\n",
    "        print(rowf.format(h,fd,cd))"
   ]
  },
  {
   "cell_type": "markdown",
   "metadata": {},
   "source": [
    "#### Forward-difference results\n",
    "- Every time we reduce $h$ by an orderr of magnitude, the absolute error is reduced by two orders of magnitude, consistent with $O(h^2)$\n",
    "- This process reaches a minimum at $h = 10^{-5}$, with absolute error $3\\times 10^{-10}$."
   ]
  },
  {
   "cell_type": "markdown",
   "metadata": {},
   "source": [
    "#### Central-difference resutls\n",
    "- The first time $h$ is reduced from $10^{-1}$ to $10^{-2}$, the absolute error reduced by four orders of magnitude, consistent with error $O(h^4)$.\n",
    "- This cannot contiue indefinitely, and in the next step the error improves by three orders of magnitude reaching the minimum at $h=10^{-3}$, with absolute error $10^{-12}$.\n",
    "- As $h$ is further reduced, roundoff error starts dominating, so the extrapolation is no longer reliable."
   ]
  },
  {
   "cell_type": "markdown",
   "metadata": {},
   "source": [
    "## Project: Local Kinetic Energy in Quantum Mechanics\n",
    "- The kinetic energy in quantum mechanics involves second order derivatives (in position basis).\n",
    "- In quantum mechanics, a particle is characterized by its _Hamiltonian_ $\\hat{H} = \\hat{T} + \\hat{V}$\n",
    "- $\\hat{T}$ is the kinetic energy operator, $\\hat{V}$ is the potential energy operator\n",
    "- Given the Hamiltonian, the possible states the particle can have is determined by its wave functions $\\psi$, which satisfy the Schrödinger equation  \n",
    "$$\n",
    "\\hat{H}\\psi = E\\psi\n",
    "$$\n",
    "- $E$ is the eigenvalue."
   ]
  },
  {
   "cell_type": "markdown",
   "metadata": {},
   "source": [
    "### Single-particle wave functions in one dimension\n",
    "#### Quantum Harmonic Oscillator\n",
    "- The Hamiltonian is\n",
    "$$\n",
    "\\hat{H}  = -\\frac{\\hbar^2}{2m}\\frac{d^2}{dx^2} + \\frac{1}{2}m\\omega^2 x^2\n",
    "$$\n",
    "- The first term is the kinetic energy $\\hat{T} = \\frac{\\hat{p}^2}{2m}$, with momentum operator $\\hat{p} = -i\\hbar\\frac{d}{dx}$.\n",
    "- The second term is the potential, corresponding to particle in a harmonic potential, where $\\omega$ corresponding to the angular frequency of the oscillator.\n",
    "- The Schrödinger equation is\n",
    "$$\n",
    "-\\frac{\\hbar^2}{2m}\\frac{d^2 \\psi(x)}{dx^2} + \\frac{1}{2}m\\omega^2 x^2\\psi(x) = E\\psi(x).\n",
    "$$\n",
    "- The possible energy eigenvalues are \n",
    "$$\n",
    "E_n = (n + \\frac{1}{2})\\hbar \\omega\n",
    "$$\n",
    "and the (normalized eigenfunctions)\n",
    "$$\n",
    "\\psi_n(x)  = \\frac{1}{\\sqrt{2^n n!}} \\left( \\frac{m\\omega}{\\pi \\hbar}\\right)^{1/4} H_n\\left(\\sqrt{\\frac{m\\omega}{\\hbar}}x\\right)e^{-m\\omega x^2/(2\\hbar)}\n",
    "$$\n",
    "- Both the eigenvalues and eigenfunctions are labeled by a discrete index $n$: this goes to the heart of _quantization_.\n",
    "- For a given $n$, the harmonic-oscillator wave function is a Gaussian term and a _Hermite polynomial_, $H_n(x)$.\n",
    "- Hermite polynomial obey the _recurrence relation_:\n",
    "$$\n",
    "H_{j+1}(x) = 2xH_j(x) - 2jH_{j-1}(x).\n",
    "$${#eq-recurrence}\n",
    "- To calculate $H_n(x)$, we start from $H_0(x) = 1$ and $H_1(x) = 2x$, and apply @eq-recurrence for $j = 1,2,\\dots, n-1$.\n",
    "- For derivatives, we have\n",
    "$$\n",
    "H_n'(x) = 2n H_{n-1}(x).\n",
    "$$\n",
    "\n",
    "In the following, we compute the Hermite polynomial numerically."
   ]
  },
  {
   "cell_type": "code",
   "execution_count": 35,
   "metadata": {},
   "outputs": [
    {
     "data": {
      "image/png": "[encoded data removed]",
      "text/plain": [
       "<Figure size 432x288 with 1 Axes>"
      ]
     },
     "metadata": {
      "needs_background": "light"
     },
     "output_type": "display_data"
    }
   ],
   "source": [
    "import numpy as np\n",
    "import matplotlib.pyplot as plt\n",
    "# Compute Hermite polynomial of order n, and its first order derivative\n",
    "def hermite(n,x):\n",
    "    if n == 0:\n",
    "        val2 = np.ones_like(x)*1.\n",
    "        dval2 = np.zeros_like(x)*0.\n",
    "    elif n == 1:\n",
    "        val2 = 2*x\n",
    "        dval2 = np.ones_like(x)*2\n",
    "    else:\n",
    "        val0 = np.ones_like(x)*1.\n",
    "        val1 = 2*x\n",
    "        val2 = 0.\n",
    "        for j in range(1,n):\n",
    "            val2 = 2*x*val1 - 2*j*val0\n",
    "            val0, val1 = val1, val2\n",
    "        dval2 = 2*n*val0\n",
    "    return val2, dval2\n",
    "\n",
    "x = np.linspace(-3,3,100)\n",
    "for nn in range(5):\n",
    "    val2, dval2 = hermite(nn,x)\n",
    "    plt.plot(x,val2,label='n = '+str(nn))\n",
    "plt.legend()\n",
    "plt.ylim([-40,40])\n",
    "plt.xlabel(r'$x$')\n",
    "plt.ylabel(r'$H_n(x)$')\n",
    "plt.title('First few Hermite polynomials')\n",
    "plt.show()"
   ]
  },
  {
   "cell_type": "markdown",
   "metadata": {},
   "source": [
    "#### Particle in a Periodic Box\n",
    "- We study a particle in a periodic box, goes from $-L/2$ to $L/2$ (of length $L$ and periodic). \n",
    "- The Sch&ouml;dinger equation is\n",
    "$$\n",
    "-\\frac{\\hbar^2}{2m} \\frac{d^2\\psi(x)}{dx^2} = E\\psi(x)\n",
    "$$\n",
    "- The wave functions are plane waves\n",
    "$$\n",
    "\\psi_k(x) = \\frac{1}{\\sqrt{L}}e^{ikx}.\n",
    "$$\n",
    "- The prefactor is such that the wave function is normalized, namely $\\int_{-\\infty}^\\infty dx |\\psi_k(x)|^2 = 1$.\n",
    "- We have labeld the quantum number as the wave number $k = p/\\hbar$.\n",
    "- The periodic condition defines the boundary condition $\\psi_k(x) = \\psi_k(x+L)$ for the wave function. \n",
    "- This means $\\exp(ikx) = \\exp(ik(x+L))$, implying $\\exp(ikL) = 1$, or\n",
    "$$\n",
    "k = \\frac{2\\pi n}{L}, \\quad n \\in \\mathbb{Z}.\n",
    "$$\n",
    "- The energy eigenvalue for the state with quantum number $k$ is\n",
    "$$\n",
    "E = \\frac{\\hbar^2k^2}{2m} = \\frac{\\hbar^2}{2m}\\left(\\frac{2\\pi}{L}\\right)^2 n^2.\n",
    "$$"
   ]
  },
  {
   "cell_type": "markdown",
   "metadata": {},
   "source": [
    "### Evaluate kinetic energy\n",
    "- We define the local kinetic energy\n",
    "$$\n",
    "T_L = \\frac{\\hat{T}\\psi}{\\psi}\n",
    "$$\n",
    "- In general, this quantity will depend on the position $x$.\n",
    "- For harmonic oscillator, we find\n",
    "$$\n",
    "T_L = (n + \\frac{1}{2})\\hbar \\omega - \\frac{1}{2}m\\omega^2 x^2.\n",
    "$$\n",
    "- For a particle  in a periodic box, since there is no potential energy, the total energy will be the same as the kinetic energy. \n",
    "- The kinetic energy involves second order derivative, with a prefactor $-\\frac{\\hbar^2}{2m}$. We shall use\n",
    "$$\n",
    "\\frac{d^2 \\psi(x)}{d x^2} \\simeq \\frac{\\psi(x + h) + \\psi( x - h) - 2f(x)}{h^2}.\n",
    "$$\n",
    "\n",
    "- See the following implementation, where we fix $\\hbar^2/m = 1$ and $m\\omega/\\hbar = 1$, which means we measure the energy in unit of $\\hbar \\omega$.\n",
    "- At $x = 1$, we have\n",
    "$$\n",
    "\\frac{1}{2}m\\omega^2 x^2 = \\frac{1}{2} \\hbar \\omega.\n",
    "$$\n",
    "\n",
    "- For quantum harmonic oscillator, we have\n",
    "$$\n",
    "T_L(x=1) = n\\hbar \\omega. \n",
    "$$"
   ]
  },
  {
   "cell_type": "code",
   "execution_count": 38,
   "metadata": {},
   "outputs": [
    {
     "name": "stdout",
     "output_type": "stream",
     "text": [
      "h     qho                 box\n",
      "1e-01 83.7347487381334759 1.9933422158758423+0.0000000000000064j\n",
      "1e-02 99.8252144561287480 1.9999333342228847+0.0000000000009856j\n",
      "1e-03 99.9982508976935520 1.9999993333159836-0.0000000000516305j\n",
      "1e-04 99.9999829515395646 1.9999999988482300-0.0000000002804216j\n",
      "1e-05 99.9997983578354876 1.9999999227612257+0.0000011797609069j\n"
     ]
    }
   ],
   "source": [
    "from math import sqrt, pi, factorial\n",
    "import numpy as np\n",
    "\n",
    "def hermite(n,x):\n",
    "    if n == 0:\n",
    "        val2 = 1.\n",
    "        dval2 = 0.\n",
    "    elif n == 1:\n",
    "        val2 = 2*x\n",
    "        dval2 = 2.\n",
    "    else:\n",
    "        val0 = 1.\n",
    "        val1 = 2*x\n",
    "        val2 = 0.\n",
    "        for j in range(1,n):\n",
    "            val2 = 2*x*val1 - 2*j*val0\n",
    "            val0, val1 = val1, val2\n",
    "        dval2 = 2*n*val0\n",
    "    return val2, dval2\n",
    "\n",
    "\n",
    "def psiqho(x,nametoval):\n",
    "    n = nametoval[\"n\"]\n",
    "    m_omega_hbar = nametoval[\"m_omega_hbar\"]          # \\frac{m \\omega}{\\hbar}\n",
    "    psival =m_omega_hbar**0.25*np.exp(-0.5*m_omega_hbar * x**2) \n",
    "    psival *= hermite(n,sqrt(m_omega_hbar)*x)[0]\n",
    "    psival /= sqrt(2**n * factorial(n) * sqrt(pi))\n",
    "    return psival\n",
    "\n",
    "def psibox(x,nametoval):\n",
    "    n = nametoval[\"n\"]\n",
    "    boxl = nametoval[\"boxl\"]\n",
    "    return np.exp(2*pi*n*x*1j/boxl)\n",
    "\n",
    "\n",
    "def kinetic(psi,x,nametoval,h=0.005):\n",
    "    hom = 1.\n",
    "    psiold = psi(x,nametoval)\n",
    "    psip = psi(x+h,nametoval)\n",
    "    psim = psi(x-h,nametoval)\n",
    "\n",
    "    lapl = (psip + psim - 2.*psiold)/h**2\n",
    "    kin = -0.5*hom*lapl/psiold\n",
    "    return kin\n",
    "\n",
    "def test_kinetic():\n",
    "    x = 1.\n",
    "    hs = [10**(-i) for i in range(1,6)]\n",
    "\n",
    "    nametoval = {\"n\": 100, \"m_omega_hbar\": 1.}\n",
    "    qhos = [kinetic(psiqho,x,nametoval,h) for h in hs]\n",
    "    nametoval = {\"n\": -2, \"boxl\": 2*pi}\n",
    "    boxs = [kinetic(psibox,x,nametoval,h) for h in hs]\n",
    "\n",
    "    rowf = \"{0:1.0e} {1:1.16f} {2:1.16f}\"\n",
    "    print(\"h     qho                 box\")\n",
    "    for h,qho,box in zip(hs,qhos,boxs):\n",
    "        print(rowf.format(h,qho,box))\n",
    "\n",
    "if __name__ == '__main__':\n",
    "    test_kinetic()"
   ]
  },
  {
   "cell_type": "markdown",
   "metadata": {},
   "source": [
    "- For quantum harmonic oscillator, at $n=100$, $x=1$, the exact result should be $100$ in unit of $\\hbar \\omega$.\n",
    "- For a particle in a periodic box, we should get\n",
    "$$\n",
    "E_{n=-2} = \\frac{\\hbar^2}{2m} (-2)^2 = 2.\n",
    "$$\n",
    "- Upon reducing the discretization step size $h$, the error first descreases and then increases. "
   ]
  },
  {
   "cell_type": "markdown",
   "metadata": {},
   "source": []
  },
  {
   "cell_type": "markdown",
   "metadata": {},
   "source": [
    "## Homework\n",
    "1. Produce a table of $x_i$ and $e^{\\sin(2x_i)}$ values, where $x_i$ goes from 0 to 1.6 in steps of 0.08. \n",
    "\n",
    "    a. Plot the forward-difference and central-difference results (for the first derivative) given these values. (Hint: if you cannot produce a result for a specific $x$, don’t.) Then, introduce a curve for the analytical derivative.\n",
    "\n",
    "    a. Use Richardson extrapolation for the forward difference for points on a grid and add an extra set of points to the plot. You can use:\n",
    "    $$\n",
    "    R_{fd} = 2D_{fd}(h) - D_{fd}(2h) + O(h^2)\n",
    "    $$"
   ]
  }
 ],
 "metadata": {
  "interpreter": {
   "hash": "df1fa0d82bdabb5288f7efc0788d29c4d5bb5f690328690a3d32d2cd65de760c"
  },
  "kernelspec": {
   "display_name": "Python 3.10.4 ('default')",
   "language": "python",
   "name": "python3"
  },
  "language_info": {
   "codemirror_mode": {
    "name": "ipython",
    "version": 3
   },
   "file_extension": ".py",
   "mimetype": "text/x-python",
   "name": "python",
   "nbconvert_exporter": "python",
   "pygments_lexer": "ipython3",
   "version": "3.10.4"
  },
  "orig_nbformat": 4
 },
 "nbformat": 4,
 "nbformat_minor": 2
}
