{
 "cells": [
  {
   "cell_type": "markdown",
   "metadata": {},
   "source": [
    "---\n",
    "title: \"Summary of Python features\"\n",
    "format: \n",
    "  html:\n",
    "    toc: true\n",
    "    code-fold: false\n",
    "    page-layout: full\n",
    "jupyter: python3\n",
    "---"
   ]
  },
  {
   "cell_type": "markdown",
   "metadata": {},
   "source": [
    "## Basics\n",
    "- Python can run interactively (as in this __Jupyter notebook/lab__) or noninteractively through a script file (via command `python xxx.py`).\n",
    "- Python is a dynamically typed language, which means you don't declare the type of variables at the beginning, and the variables get their type from their value. Eg. `x = 0.5` creates a float variable.\n",
    "- Many functions can be obtained by importing standard library modules. Eg. the square root function `sqrt` can be obtained by `import math` and then be used as `math.sqrt(x)`. \n",
    "- Some Pythonic expressions: `x += 1` means \n",
    "`x = x+1`. Exchanging values of variables  `x, y = y, x`. "
   ]
  },
  {
   "cell_type": "markdown",
   "metadata": {},
   "source": [
    "## Control Flow\n",
    "- Run code under conditions: \n",
    "```python\n",
    "    if (x != 0):\n",
    "        print(\"x is nonzero\")\n",
    "```\n",
    "- Note that the __indentation__ after the colon \":\" is important.\n",
    "- Two types of loop (`for` loop is recommended in practice): \n",
    "```python\n",
    "    while (condition):\n",
    "        ...\n",
    "```\n",
    "```python\n",
    "    for i in range(3):\n",
    "        ...\n",
    "```\n",
    "- `range(n)` gives the integers from `0` to `n-1`. `range(m,n,i)` gives the integers from `m` to `n-1` in steps of `i`."
   ]
  },
  {
   "cell_type": "code",
   "execution_count": 1,
   "metadata": {},
   "outputs": [
    {
     "name": "stdout",
     "output_type": "stream",
     "text": [
      "0 2 4 6 8 "
     ]
    }
   ],
   "source": [
    "#| output: asis\n",
    "for ii in range(0,10,2):\n",
    "    print(ii, end = \" \")  # end = \" \" means after printing ii, we put a space at the end (no new lines)"
   ]
  },
  {
   "cell_type": "markdown",
   "metadata": {},
   "source": [
    "## Data Structures\n",
    "### Lists \n",
    "A list is a container of elements (of any type), and the number of elements can grow. For example, `zs = [5, 1+2j, -2.0]` is a list. `zs[0]` is the first element and `zs[-1]` is the last one. We can change the element in the list, for example, by `zs[1]=9`, which will replace `1+2j` in the original list. We can also introduce a new element at the end of the list, by the `append()` command. See the following example:"
   ]
  },
  {
   "cell_type": "code",
   "execution_count": 17,
   "metadata": {},
   "outputs": [
    {
     "name": "stdout",
     "output_type": "stream",
     "text": [
      "[0.0, 0.1, 0.2, 0.30000000000000004, 0.4, 0.5, 0.6000000000000001, 0.7000000000000001, 0.8, 0.9, 1.0, 1.1, 1.2000000000000002, 1.3, 1.4000000000000001, 1.5, 1.6, 1.7000000000000002, 1.8, 1.9000000000000001]\n"
     ]
    }
   ],
   "source": [
    "xs = []\n",
    "for i in range(20):\n",
    "    xs.append(0.1*i)\n",
    "print(xs) # there can be numerical errors"
   ]
  },
  {
   "cell_type": "markdown",
   "metadata": {},
   "source": [
    "If we add two lists `zs = xs + ys`, we concatenate the lists `xs` and `ys` into `zs`. Similarly, `xs = 4 * [0]` simplies gives `xs = [0,0,0,0]`. \n",
    "\n",
    "__Slicing__ is an important feature. `xs[2:5]` means we extract a smaller list consisting `xs[2]` up to `xs[4]` (exclude `xs[5]`). Further, we can use `ws[m:n:i]`, which means we extract `ws[m]` up to but not include `ws[n]` where the index goes in steps of `i`. \n",
    "\n",
    "__Copy list__: if we assign an old list `xs` to a new list `ys`, via `ys = xs`, then `ys` will just be another name for the old list. See the following example:"
   ]
  },
  {
   "cell_type": "code",
   "execution_count": 2,
   "metadata": {},
   "outputs": [
    {
     "name": "stdout",
     "output_type": "stream",
     "text": [
      "[7, 2, 3]\n"
     ]
    }
   ],
   "source": [
    "xs = [1,2,3]\n",
    "ys = xs\n",
    "ys[0] = 7\n",
    "print(xs) # see the values of the old list is modified"
   ]
  },
  {
   "cell_type": "markdown",
   "metadata": {},
   "source": [
    "On the other hand, when you slice a list, you get a __new__ list. Particularly, `ys = xs[:]` creates a new list `ys`, which is different from the old list `xs`. See the following example:"
   ]
  },
  {
   "cell_type": "code",
   "execution_count": 3,
   "metadata": {},
   "outputs": [
    {
     "name": "stdout",
     "output_type": "stream",
     "text": [
      "[1, 2, 3]\n",
      "[7, 2, 3]\n"
     ]
    }
   ],
   "source": [
    "xs = [1,2,3]\n",
    "ys = xs[:]\n",
    "ys[0] = 7\n",
    "print(xs)\n",
    "print(ys)"
   ]
  },
  {
   "cell_type": "markdown",
   "metadata": {},
   "source": [
    "__Tuples__ can be regarded as _immutable_ lists, which means they can neither change nor grow. We use _parentheses_ instead of square brackets for the tuples, `xs = (1,2,3)`, or sometimes even without the parentheses, `xs = 1,2,3`. After it is created, we cannot change its values. If you type `xs[0] = 3`, you will get an error. You do have access to the elements in the tuples. Whey you type `print(xs[0])`, you will get `1`."
   ]
  },
  {
   "cell_type": "markdown",
   "metadata": {},
   "source": [
    "__Strings__ can be viewed as a sequence. For example, `name = \"Mary\"`, then `name[-1]` will be the character `y`. (Either double or single quotation marks can be used.) Strings are also _immutable_. You can use `+` to concatenate two strings. A useful function tha|t acts on the strings is `format()`: it uses _positional_ arguments, numbered starting from `0`, within curly braces. See the following example"
   ]
  },
  {
   "cell_type": "code",
   "execution_count": 22,
   "metadata": {},
   "outputs": [
    {
     "name": "stdout",
     "output_type": "stream",
     "text": [
      "123.3 -2.8\n",
      "123.3000000000, -2.8\n"
     ]
    }
   ],
   "source": [
    "x,y =123.3, -2.8\n",
    "print(\"{0} {1}\".format(x,y))\n",
    "print(\"{0:.10f}, {1}\".format(x,y))"
   ]
  },
  {
   "cell_type": "markdown",
   "metadata": {},
   "source": [
    "In the above example, the `.10f` after the colon means we format the first variable `x` as a float number with ten digits after the decimal point. \n",
    "\n",
    "__Dictionaries__ are also called associative arrays in computer science (or maps in C++). They are _key-value_ pairs. For example, we can introduce `htow = {1.4 : 30.1, 1.5 : 42.3, 1.6 : 48}`. Here, `1.4`, `1.5`, and `1.6` are keys. `30.1`, `42.3` and `48` are the corresponding values. One can access the values via the keys, via e.g. `htow[1.5]`, which gives `42.3`. Note that the keys and values can be strings, floats etc. "
   ]
  },
  {
   "cell_type": "markdown",
   "metadata": {},
   "source": [
    "## User-Defined Functions\n",
    "In python, function are defined using the following code block, which sum from 1 up to some integer. "
   ]
  },
  {
   "cell_type": "code",
   "execution_count": 26,
   "metadata": {},
   "outputs": [
    {
     "data": {
      "text/plain": [
       "55"
      ]
     },
     "execution_count": 26,
     "metadata": {},
     "output_type": "execute_result"
    }
   ],
   "source": [
    "def sumofints(nmax):\n",
    "    val = sum(range(1,nmax+1))\n",
    "    return val\n",
    "sumofints(10)"
   ]
  },
  {
   "cell_type": "markdown",
   "metadata": {},
   "source": [
    "Sometimes it is also useful to introduce default parameters in a function. For example, we can set the default `nmax` to be `10`. When we omit the parameter, the function runs with its default parameters. See below:"
   ]
  },
  {
   "cell_type": "code",
   "execution_count": 27,
   "metadata": {},
   "outputs": [
    {
     "data": {
      "text/plain": [
       "55"
      ]
     },
     "execution_count": 27,
     "metadata": {},
     "output_type": "execute_result"
    }
   ],
   "source": [
    "def sumofints2(nmax = 10):\n",
    "    val = sum(range(1,nmax+1))\n",
    "    return val\n",
    "sumofints2()"
   ]
  },
  {
   "cell_type": "markdown",
   "metadata": {},
   "source": [
    "Another way to define a function is via `lambda` function. See the following example: "
   ]
  },
  {
   "cell_type": "code",
   "execution_count": 30,
   "metadata": {},
   "outputs": [
    {
     "data": {
      "text/plain": [
       "25"
      ]
     },
     "execution_count": 30,
     "metadata": {},
     "output_type": "execute_result"
    }
   ],
   "source": [
    "f = lambda x,y: x**2 + y**2\n",
    "# define a function f(x,y)\n",
    "f(3,4)"
   ]
  },
  {
   "cell_type": "markdown",
   "metadata": {},
   "source": [
    "In python, function can be passed to other functions. For example, we can define a function that numerically calculate the derivative of a function. See the following example"
   ]
  },
  {
   "cell_type": "code",
   "execution_count": 36,
   "metadata": {},
   "outputs": [
    {
     "name": "stdout",
     "output_type": "stream",
     "text": [
      "3.0301000000000133\n",
      "3.000030000110953\n"
     ]
    }
   ],
   "source": [
    "g = lambda x: x**3 # compute x cube\n",
    "def der(f, x, h=0.01):\n",
    "    return (f(x+h) - f(x))/h\n",
    "# Compute the derivative of x^3 at x=1. \n",
    "# The exact result is 3. \n",
    "print(der(g,1))\n",
    "print(der(g,1,1e-5)) # choose a smaller h\n"
   ]
  },
  {
   "cell_type": "markdown",
   "metadata": {},
   "source": [
    "## Core-Python Idioms\n",
    "### List Comprehensions\n",
    "We can replace the previous example that creates a list of the form `0.1*i` for i runs from 0,1,... up to 19. This can be done via `xs = [0.1*i for i in range(20)]`, this is called _list comprehension_. \n",
    "How do we double each elements in `xs`? Note that we __cannot__ use `2*xs`, because this simply concatenate two `xs` lists. The can be done in the following example: "
   ]
  },
  {
   "cell_type": "code",
   "execution_count": 40,
   "metadata": {},
   "outputs": [
    {
     "name": "stdout",
     "output_type": "stream",
     "text": [
      "[0.0, 0.2, 0.4, 0.6000000000000001, 0.8, 1.0, 1.2000000000000002, 1.4000000000000001, 1.6, 1.8, 2.0, 2.2, 2.4000000000000004, 2.6, 2.8000000000000003, 3.0, 3.2, 3.4000000000000004, 3.6, 3.8000000000000003]\n"
     ]
    }
   ],
   "source": [
    "xs = [0.1 * i for i in range(20)]\n",
    "ys = [2*x for x in xs]\n",
    "print(ys)"
   ]
  },
  {
   "cell_type": "markdown",
   "metadata": {},
   "source": [
    "We can even add conditions in list comprehensions. "
   ]
  },
  {
   "cell_type": "code",
   "execution_count": 47,
   "metadata": {},
   "outputs": [
    {
     "name": "stdout",
     "output_type": "stream",
     "text": [
      "[2.2, 2.4000000000000004, 2.6, 2.8000000000000003, 3.0, 3.2, 3.4000000000000004, 3.6, 3.8000000000000003]\n"
     ]
    }
   ],
   "source": [
    "zs = [2*x for x in xs if x>1]\n",
    "# This only doubles the elements greater than 1.\n",
    "print(zs)"
   ]
  },
  {
   "cell_type": "markdown",
   "metadata": {},
   "source": [
    "### Iterating Idiomatically\n",
    "__One list__ The conventional way to iterate the list xs:\n",
    "```python\n",
    "for i in range(len(xs)):\n",
    "    print(xs[i])\n",
    "```\n",
    "The pythonic way is\n",
    "```python\n",
    "for x in xs:\n",
    "    print(x)\n",
    "```\n",
    "Sometimes, you may also want to get the index i when iterating the list. See the following example"
   ]
  },
  {
   "cell_type": "code",
   "execution_count": 8,
   "metadata": {},
   "outputs": [
    {
     "name": "stdout",
     "output_type": "stream",
     "text": [
      "0 0.0\n",
      "1 0.1\n",
      "2 0.2\n",
      "3 0.3\n",
      "4 0.4\n"
     ]
    }
   ],
   "source": [
    "xs = [0.1*i for i in range(5)]\n",
    "for i,x in enumerate(xs):\n",
    "    print(\"{0} {1:.1f}\".format(i,x))"
   ]
  },
  {
   "cell_type": "markdown",
   "metadata": {},
   "source": [
    "__Two lists__ If `xs` and `ys` are of the same lenth, we can use the `zip()` command to simplify the following non-pythonic function.\n",
    "```python\n",
    "# Non-pythonic way\n",
    "for i in range(len(xs)):\n",
    "    print(xs[i],ys[i])\n",
    "```"
   ]
  },
  {
   "cell_type": "code",
   "execution_count": 10,
   "metadata": {},
   "outputs": [
    {
     "name": "stdout",
     "output_type": "stream",
     "text": [
      "1 4\n",
      "2 5\n",
      "3 6\n"
     ]
    }
   ],
   "source": [
    "# Pythonic way\n",
    "xs = [1,2,3]\n",
    "ys = [4,5,6]\n",
    "for x,y in zip(xs,ys):\n",
    "    print(x,y) "
   ]
  },
  {
   "cell_type": "markdown",
   "metadata": {},
   "source": [
    "__Dictionaries__ We can use `.items()` method of dictionaries to loop over all key-value pairs in the dictionary. See the following example"
   ]
  },
  {
   "cell_type": "code",
   "execution_count": 11,
   "metadata": {},
   "outputs": [
    {
     "name": "stdout",
     "output_type": "stream",
     "text": [
      "Alice 12\n",
      "Bob 14\n",
      "Sam 11\n"
     ]
    }
   ],
   "source": [
    "name_age = {\"Alice\": 12, \"Bob\": 14, \"Sam\": 11}\n",
    "for name,age in name_age.items():\n",
    "    print(\"{0} {1}\".format(name,age))"
   ]
  },
  {
   "cell_type": "markdown",
   "metadata": {},
   "source": [
    "__For-else__\n",
    "You can follow the `for` loop by an `else`. This is counterituitive but can be very helpful. \n",
    "The way this works is that the `for` loop is run as usual: if no `break` is encountered during execution of the `for` block, then control proceeds to the `else` block. If\n",
    "a `break` is encountered during execution of the `for` block, then the `else` block is not run. See the following example."
   ]
  },
  {
   "cell_type": "code",
   "execution_count": 18,
   "metadata": {},
   "outputs": [
    {
     "name": "stdout",
     "output_type": "stream",
     "text": [
      "11\n",
      "None\n"
     ]
    }
   ],
   "source": [
    "def look_up_age(target,name_age):\n",
    "    for name,age in name_age.items():\n",
    "        if name==target:\n",
    "            val = age\n",
    "            break\n",
    "    else:\n",
    "        val = None\n",
    "    return val\n",
    "name_age = {\"Alice\":12, \"Bob\":14, \"Sam\":11}\n",
    "print(look_up_age(\"Sam\", name_age))\n",
    "print(look_up_age(\"Jack\", name_age))"
   ]
  },
  {
   "cell_type": "markdown",
   "metadata": {},
   "source": [
    "## Basic Plotting with matplotlib\n",
    "The Python ecosystem gives us the option of visualizing relationships between numbers via `matplotlib`, a plotting library (i.e., not part of core Python) which can produce quality figures. Specifically, we use the `matplotlib.pyplot` module to produce figures. \n",
    "\n",
    "If you want to learn more, please to visit [Matplotlib's webpage](https://matplotlib.org/), especially the [Tutorial page](https://matplotlib.org/stable/tutorials/index.html). "
   ]
  },
  {
   "cell_type": "code",
   "execution_count": 33,
   "metadata": {},
   "outputs": [
    {
     "data": {
      "image/png": "[encoded data removed]",
      "text/plain": [
       "<Figure size 432x288 with 1 Axes>"
      ]
     },
     "metadata": {
      "needs_background": "light"
     },
     "output_type": "display_data"
    }
   ],
   "source": [
    "import matplotlib.pyplot as plt # plt is the short name for matplotlib.pyplot\n",
    "\n",
    "def plotex(cxs,cys,dxs,dys):\n",
    "    plt.xlabel('x', fontsize=20)\n",
    "    plt.ylabel('f(x)', fontsize=20)\n",
    "    plt.plot(cxs, cys, 'r-', label='quadratic')\n",
    "    plt.plot(dxs, dys, 'b--', label='other function')\n",
    "    plt.legend()\n",
    "    plt.show()\n",
    "\n",
    "cxs = [0.1*i for i in range(60)]\n",
    "cys = [x**2 for x in cxs]\n",
    "dxs = [i for i in range(7)]\n",
    "dys = [x**1.8 - 0.5 for x in dxs]\n",
    "plotex(cxs, cys, dxs, dys)"
   ]
  },
  {
   "cell_type": "markdown",
   "metadata": {},
   "source": [
    "## Project: Visualiznig Electric Fields\n",
    "We shall use `matplotlib` to visualize a vector field, by drawing field lines for the electric field produced by several point charges.\n",
    "\n",
    "### Electric Field of a Distribution of Point Charges\n",
    "Let us recall the _Coulomb's law_: the force on a test charge $Q$ located at point $P$ (at position $\\boldsymbol{r}$), coming from a single point charge $q_0$ located at $\\boldsymbol{r}_0$ is given by:\n",
    "$$\n",
    "\\boldsymbol{F}_0 = k\\frac{q_0 Q}{(\\boldsymbol{r} - \\boldsymbol{r}_0)^2} \\frac{\\boldsymbol{r} - \\boldsymbol{r}_0}{|\\boldsymbol{r} - \\boldsymbol{r}_0|}\n",
    "$$\n",
    "where the Coulomb constant $k = 1/(4\\pi \\epsilon_0)$ in SI units. \n",
    "\n",
    "The electric field $\\boldsymbol{E}_0$ is the ratio of the force $\\boldsymbol{F}_0$ with the test charge $Q$ in the limit $Q\\to 0$. In practice, this gives\n",
    "$$\n",
    "\\boldsymbol{E}_0(\\boldsymbol{r}) = kq_0 \\frac{\\boldsymbol{r} - \\boldsymbol{r}_0}{|\\boldsymbol{r} - \\boldsymbol{r}_0|^3}.\n",
    "$$\n",
    "\n",
    "If we have more than one point charge, we could apply the _principle of superposition_, by summing over the electric fields created by point charges $q_0, q_1, \\dots, q_{n-1}$ \n",
    "$$\n",
    "\\boldsymbol{E}(\\boldsymbol{r}) = \\sum_{i = 0}^{n-1} \\boldsymbol{E}_i(\\boldsymbol{r}) \n",
    "= \\sum_{i=0}^{n-1} kq_i \\frac{\\boldsymbol{r} - \\boldsymbol{r}_0}{|\\boldsymbol{r} - \\boldsymbol{r}_0|^3}.\n",
    "$$ {#eq-electric_field} \n",
    "\n",
    "Note that the electric field is a vector quantity: at any point in space it has a magniude and a direction. One way of visualizing vector fields consists of drawing _field lines_,namely imaginary curves that help us keep track of the direction of the field. More specifically, the tangent of a field line at a given point gives us the direction of the electric field at that point. Field lines do not cross; they start at positive charges (\"sources\") and end at negative charges (\"sinks\")."
   ]
  },
  {
   "cell_type": "markdown",
   "metadata": {},
   "source": [
    "### Plotting Field Line\n",
    "We have two tasks: \n",
    "\n",
    "1. We need to find the electric field (vector) at several points near the charges (@eq-electric_field).\n",
    "2. We need to plot field lines in such a way that we can physically interpret what is happening. \n",
    "\n",
    "We shall only consider the problem with only __two__ point charges of equal magnitude and opposite sign. We restrict ourselves to two dimensions. \n",
    "\n",
    "Below is the python implementation, where we take the Coulomb constant $k=1$ for simplicity. We start by importing `numpy` and `matplotlib`. We also import the square root function and the `deepcopy()` function, which can create a distinct list-of-lists. \n",
    "\n",
    "The function `makefield()` takes in two liss, `xs` and `ys`, corresponding to the coordinates at which we wish to evaluate field. We also need to store the $\\boldsymbol{r}_i$ at which the point charges are located. "
   ]
  },
  {
   "cell_type": "code",
   "execution_count": 24,
   "metadata": {},
   "outputs": [
    {
     "data": {
      "image/png": "[encoded data removed]",
      "text/plain": [
       "<Figure size 432x288 with 1 Axes>"
      ]
     },
     "metadata": {
      "needs_background": "light"
     },
     "output_type": "display_data"
    }
   ],
   "source": [
    "import numpy as np\n",
    "import matplotlib.pyplot as plt\n",
    "from math import sqrt\n",
    "from copy import deepcopy\n",
    "\n",
    "def makefield(rlist, qtopos):\n",
    "    '''\n",
    "    This function computes the electric field vector (Ex, Ey) at different locations r=(x,y).\n",
    "    Here, the inputs are: \n",
    "    rlist = [[x1,y1],[x2,y2],...] for the locations at which we want to calculate the electric fields.\n",
    "    qtopos = [[q1, (posx, posy)], [q2, (posx, posy)] ...] \n",
    "    corresonding to locations r1 = (x1,y1), r2 = (x2,y2), ...\n",
    "    '''\n",
    "    # First, create an empty list\n",
    "    Es = []\n",
    "    for r in rlist:\n",
    "        # loop over all locations at which the electric fields will be evaluated\n",
    "        x,y = r\n",
    "        # extract the x and y coordinate\n",
    "        Ex = 0\n",
    "        Ey = 0\n",
    "        # set initial electric field strength to zero\n",
    "        for q_pos in qtopos:\n",
    "            q,pos = q_pos\n",
    "            # loop over all point charge and position pairs:\n",
    "            posx, posy = pos\n",
    "            R = sqrt((x - posx)**2 + (y - posy)**2)\n",
    "            # Calculate the distance\n",
    "            Ex += q*(x - posx)/R**3\n",
    "            Ey += q*(y - posy)/R**3\n",
    "            # Add up contribution to the electric field from each point charge\n",
    "        Es.append(np.array([Ex,Ey])) # append the electric field np.array([Ex, Ey]) into the list Es\n",
    "    return Es # return the list of electric fields at all locations in rlist\n",
    "\n",
    "def plotfield(boxlx,boxly, n, m, qtopos= [[1,(-1,0)], [-1,(1,0)]]):\n",
    "    '''\n",
    "    plot the electric field in a region [-boxlx, boxlx] x [-boxly, boxly], \n",
    "    with n x m grid points at which the electric field shall be evaluated.\n",
    "    The default value for qtopos = [[1,(-1,0)],[-1,(1,0)]]\n",
    "    '''\n",
    "    # all possible x coordinates, from -boxl to boxl, with n points \n",
    "    xlist = [-boxlx + i*2*boxlx/(n-1) for i in range(n)]\n",
    "    # all possible y coordinates\n",
    "    ylist = [-boxly + i*2*boxly/(m-1) for i in range(m)]\n",
    "    rlist = [[x,y] for y in ylist for x in xlist]\n",
    "    # rlist = [[x1,y1],[x2,y1],[x3,y1],...,\n",
    "    #          [x1,y2],[x2,y2],[x3,y2],...,\n",
    "    #          ...,\n",
    "    #          [x1,yn],[x2,yn],[x3,yn],...]\n",
    "    Es = np.array(makefield(rlist,qtopos))\n",
    "    # convert List of electric fieds into a 2d numpy array\n",
    "    # Es= np.array([E11,E21,E31,...,\n",
    "    #               E12,E22,E32,...,\n",
    "    #              ...,\n",
    "    #               E1n,E2n,E3n,...])\n",
    "    # here E11 means E(x=x1,y=y1) etc.\n",
    "    xlist=np.array(xlist) \n",
    "    # convert xlist from list to np.array(), which is required\n",
    "    # in plt.streamplot()\n",
    "    ylist=np.array(ylist)\n",
    "    Exs=np.reshape(Es[:,0],(m,n))\n",
    "    # Es[:,0] is a 1D numpy array\n",
    "    # Es[:,0] = np.array([Ex11,Ex21,Ex31,...,\n",
    "    #                     Ex12,Ex22,Ex32,...,\n",
    "    #                      ...,\n",
    "    #                     Ex1n,Ex2n,Ex3n,...])\n",
    "    # here Ex11 means the x component Ex(x=x1,y=y1) etc.\n",
    "    # Using np.reshape(Es[:,0], (dim1, dim2)), one can reshape the 1D \n",
    "    # array Es[:,0] into a 2d array, of dim1 rows and dim2 columns. \n",
    "    Eys=np.reshape(Es[:,1],(m,n))\n",
    "    plt.streamplot(xlist, ylist, Exs, Eys, density=1.5, color='m')\n",
    "    plt.xlabel('$x$')\n",
    "    plt.ylabel('$y$')\n",
    "    plt.show()\n",
    "  \n",
    "plotfield(boxlx = 2, boxly = 1,n = 40, m = 20)"
   ]
  },
  {
   "cell_type": "markdown",
   "metadata": {},
   "source": [
    "Note that the `plt.streamplot()` is used to draw streamlines of a vector flow, one can see its [documentation](https://matplotlib.org/stable/api/_as_gen/matplotlib.pyplot.streamplot.html).\n",
    "Alternatively, you can type the following `help()` function to print out the usage of this function."
   ]
  },
  {
   "cell_type": "code",
   "execution_count": 5,
   "metadata": {},
   "outputs": [
    {
     "name": "stdout",
     "output_type": "stream",
     "text": [
      "Help on function streamplot in module matplotlib.pyplot:\n",
      "\n",
      "streamplot(x, y, u, v, density=1, linewidth=None, color=None, cmap=None, norm=None, arrowsize=1, arrowstyle='-|>', minlength=0.1, transform=None, zorder=None, start_points=None, maxlength=4.0, integration_direction='both', *, data=None)\n",
      "    Draw streamlines of a vector flow.\n",
      "    \n",
      "    Parameters\n",
      "    ----------\n",
      "    x, y : 1D/2D arrays\n",
      "        Evenly spaced strictly increasing arrays to make a grid.  If 2D, all\n",
      "        rows of *x* must be equal and all columns of *y* must be equal; i.e.,\n",
      "        they must be as if generated by ``np.meshgrid(x_1d, y_1d)``.\n",
      "    u, v : 2D arrays\n",
      "        *x* and *y*-velocities. The number of rows and columns must match\n",
      "        the length of *y* and *x*, respectively.\n",
      "    density : float or (float, float)\n",
      "        Controls the closeness of streamlines. When ``density = 1``, the domain\n",
      "        is divided into a 30x30 grid. *density* linearly scales this grid.\n",
      "        Each cell in the grid can have, at most, one traversing streamline.\n",
      "        For different densities in each direction, use a tuple\n",
      "        (density_x, density_y).\n",
      "    linewidth : float or 2D array\n",
      "        The width of the stream lines. With a 2D array the line width can be\n",
      "        varied across the grid. The array must have the same shape as *u*\n",
      "        and *v*.\n",
      "    color : color or 2D array\n",
      "        The streamline color. If given an array, its values are converted to\n",
      "        colors using *cmap* and *norm*.  The array must have the same shape\n",
      "        as *u* and *v*.\n",
      "    cmap : `~matplotlib.colors.Colormap`\n",
      "        Colormap used to plot streamlines and arrows. This is only used if\n",
      "        *color* is an array.\n",
      "    norm : `~matplotlib.colors.Normalize`\n",
      "        Normalize object used to scale luminance data to 0, 1. If ``None``,\n",
      "        stretch (min, max) to (0, 1). This is only used if *color* is an array.\n",
      "    arrowsize : float\n",
      "        Scaling factor for the arrow size.\n",
      "    arrowstyle : str\n",
      "        Arrow style specification.\n",
      "        See `~matplotlib.patches.FancyArrowPatch`.\n",
      "    minlength : float\n",
      "        Minimum length of streamline in axes coordinates.\n",
      "    start_points : Nx2 array\n",
      "        Coordinates of starting points for the streamlines in data coordinates\n",
      "        (the same coordinates as the *x* and *y* arrays).\n",
      "    zorder : int\n",
      "        The zorder of the stream lines and arrows.\n",
      "        Artists with lower zorder values are drawn first.\n",
      "    maxlength : float\n",
      "        Maximum length of streamline in axes coordinates.\n",
      "    integration_direction : {'forward', 'backward', 'both'}, default: 'both'\n",
      "        Integrate the streamline in forward, backward or both directions.\n",
      "    data : indexable object, optional\n",
      "        If given, the following parameters also accept a string ``s``, which is\n",
      "        interpreted as ``data[s]`` (unless this raises an exception):\n",
      "    \n",
      "        *x*, *y*, *u*, *v*, *start_points*\n",
      "    \n",
      "    Returns\n",
      "    -------\n",
      "    StreamplotSet\n",
      "        Container object with attributes\n",
      "    \n",
      "        - ``lines``: `.LineCollection` of streamlines\n",
      "    \n",
      "        - ``arrows``: `.PatchCollection` containing `.FancyArrowPatch`\n",
      "          objects representing the arrows half-way along stream lines.\n",
      "    \n",
      "        This container will probably change in the future to allow changes\n",
      "        to the colormap, alpha, etc. for both lines and arrows, but these\n",
      "        changes should be backward compatible.\n",
      "\n"
     ]
    }
   ],
   "source": [
    "help(plt.streamplot)"
   ]
  },
  {
   "cell_type": "markdown",
   "metadata": {},
   "source": [
    "One can see that `plt.streamplot()` expects inputs `x,y,u,v` as 1D or 2D (numpy) arrays. That's the reason we need to import `numpy` and convert Lists to numpy arrays. In the following, we will brifely remind you some numpy idioms. More functions of numpy arrays will be introduced later in this course. You can also visit [Numpy website](https://numpy.org/learn/) to learn by yourself. "
   ]
  },
  {
   "cell_type": "markdown",
   "metadata": {},
   "source": [
    "## Numpy idioms\n",
    "Numpy arrays are similar to python list. Python lists are often _homogeneous_, which means they contain elements of only one type. Thus, it makes more sense to carry out tasks using a _homogenous_, _fixed-length_ container. Numpy arrays are exactly such objects that do this job: it is fast and space-efficient. It also allows us to avoid having to write loops, via so-called _vectorization_.\n",
    "The standard way of importing numpy arrays into a python program is via"
   ]
  },
  {
   "cell_type": "code",
   "execution_count": 33,
   "metadata": {},
   "outputs": [],
   "source": [
    "import numpy as np"
   ]
  },
  {
   "cell_type": "markdown",
   "metadata": {},
   "source": [
    "In fact, lists are similar to 1D arrays in numpy, and can be regarded as vectors. \n",
    "Lists of lists are similar to 2D arrays in numpy, and they can be regarded as matrices.  \n",
    "One can even convert between the two easily, see below. "
   ]
  },
  {
   "cell_type": "code",
   "execution_count": 87,
   "metadata": {},
   "outputs": [
    {
     "name": "stdout",
     "output_type": "stream",
     "text": [
      "<class 'numpy.ndarray'> [1. 2. 3.]\n",
      "<class 'list'> [[1.0, 2.0, 3.0], [4.0, 5.0, 6.0], [7.0, 8.0, 9.0]]\n"
     ]
    }
   ],
   "source": [
    "xlist = [1.,2.,3.]\n",
    "xs = np.array(xlist)\n",
    "print(type(xs),xs)\n",
    "\n",
    "y2d_array = np.array([[1.,2.,3.],[4.,5.,6.],[7.,8.,9.]])\n",
    "y2dlist = y2d_array.tolist()\n",
    "print(type(y2dlist),y2dlist)"
   ]
  },
  {
   "cell_type": "code",
   "execution_count": 80,
   "metadata": {},
   "outputs": [
    {
     "data": {
      "text/plain": [
       "[1, 2, 3]"
      ]
     },
     "execution_count": 80,
     "metadata": {},
     "output_type": "execute_result"
    }
   ],
   "source": [
    "xs.tolist()"
   ]
  },
  {
   "cell_type": "markdown",
   "metadata": {},
   "source": [
    "Below we shall see the great acceleration when we compute elementwise multiplication using numpy arrays. "
   ]
  },
  {
   "cell_type": "code",
   "execution_count": 67,
   "metadata": {},
   "outputs": [
    {
     "name": "stdout",
     "output_type": "stream",
     "text": [
      "Using python lists:\n",
      "CPU times: total: 62.5 ms\n",
      "Wall time: 111 ms\n",
      "Using numpy array with vectorization:\n",
      "CPU times: total: 0 ns\n",
      "Wall time: 3.01 ms\n"
     ]
    }
   ],
   "source": [
    "def elementwise_multiplication(xlist,ylisg):\n",
    "    return [x*y for x,y in zip(xlist,ylist)]\n",
    "\n",
    "# create a random 1D array of length 100\n",
    "len_n = 1000000\n",
    "xs = np.random.rand(len_n)\n",
    "ys = np.random.rand(len_n)\n",
    "\n",
    "# xlist, ylist are the corresponding lists for xs and ys\n",
    "xlist = list(xs)\n",
    "ylist = list(ys)\n",
    "\n",
    "# perform elementwise multiplication with lists\n",
    "# One can use Jupyter's built-in magic '%time' to\n",
    "# measure the running time for a single line of code.\n",
    "print(\"Using python lists:\")\n",
    "%time zlist = elementwise_multiplication(xlist,ylist)\n",
    "print(\"Using numpy array with vectorization:\")\n",
    "%time zs = xs*ys"
   ]
  },
  {
   "cell_type": "markdown",
   "metadata": {},
   "source": [
    "__Slicing arrays__\n",
    "Consider a 2D array `A`. One can access its first row via `A[0,:]`, and its first column via `A[:,0]`. Note that the row or column indices run from zero. "
   ]
  },
  {
   "cell_type": "code",
   "execution_count": 91,
   "metadata": {},
   "outputs": [
    {
     "name": "stdout",
     "output_type": "stream",
     "text": [
      "[1 2 3]\n",
      "[1 4 7]\n"
     ]
    }
   ],
   "source": [
    "A = np.array([[1,2,3],[4,5,6],[7,8,9]])\n",
    "print(A[0,:])\n",
    "print(A[:,0])"
   ]
  },
  {
   "cell_type": "markdown",
   "metadata": {},
   "source": [
    "__Reshape  arrays__\n",
    "Sometimes it is very useful to reshape numpy arrays. For example, we can reshape a $3 \\times 2$ 2D array into a 1D array of length $6$, and vice versa. See the following example. "
   ]
  },
  {
   "cell_type": "code",
   "execution_count": 93,
   "metadata": {},
   "outputs": [
    {
     "name": "stdout",
     "output_type": "stream",
     "text": [
      "[[1 2]\n",
      " [3 4]\n",
      " [5 6]]\n",
      "[1 2 3 4 5 6]\n"
     ]
    }
   ],
   "source": [
    "x1d = np.array([[1,2,3,4,5,6]])\n",
    "x2d = np.reshape(x1d,(3,2))\n",
    "print(x2d)\n",
    "print(x2d.flatten())"
   ]
  },
  {
   "cell_type": "markdown",
   "metadata": {},
   "source": [
    "In the above example, when we reshape the 1D array into a 2D array, the column (second) indices increase faster than the row (first) indices. This is known as the _C-type_ ordering, which in general requires the last index in an ndarray changes the fastest. (On the contrary, in other programming languages, such as Matlab and Fortran, the first index changes the fastest. This is known as the _Fortran-type_ ordering.)\n"
   ]
  },
  {
   "cell_type": "markdown",
   "metadata": {},
   "source": [
    "## Homework Problems\n",
    "\n",
    "Please submit your codes in a jupyter notebook *.ipynb.\n",
    "\n",
    "1. Iterate through a list `xs` in reverse, printing out both the index (which will be decreasing) and each element itself.\n",
    "2. Try to reproduce the electric field plot shown below with 4 point charges, at (1,0), (-1,0), (0,1), (0,-1). (You should first determine the sign of the charges, assusming they all have the same magnitude.)\n",
    "![Electric field](homework2.png)"
   ]
  }
 ],
 "metadata": {
  "interpreter": {
   "hash": "df1fa0d82bdabb5288f7efc0788d29c4d5bb5f690328690a3d32d2cd65de760c"
  },
  "kernelspec": {
   "display_name": "Python 3.10.4 ('default')",
   "language": "python",
   "name": "python3"
  },
  "language_info": {
   "codemirror_mode": {
    "name": "ipython",
    "version": 3
   },
   "file_extension": ".py",
   "mimetype": "text/x-python",
   "name": "python",
   "nbconvert_exporter": "python",
   "pygments_lexer": "ipython3",
   "version": "3.10.5"
  },
  "orig_nbformat": 4
 },
 "nbformat": 4,
 "nbformat_minor": 2
}
