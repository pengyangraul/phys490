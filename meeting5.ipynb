{
 "cells": [
  {
   "cell_type": "markdown",
   "id": "eb7c718d",
   "metadata": {},
   "source": [
    "---\n",
    "title: \"Meeting 5 (Nov. 7)\"\n",
    "subtitle: \"Discussing problems in Weeks 11, 12, 13\"\n",
    "format: \n",
    "  html:\n",
    "    toc: true\n",
    "    code-fold: false\n",
    "    page-layout: full\n",
    "    fig-cap-location: bottom\n",
    "    number-sections: False\n",
    "    number-depth: 2\n",
    "    html-to-math: katex\n",
    "    html-math-method: katex\n",
    "    callout-appearance: minimal\n",
    "jupyter: python3\n",
    "---"
   ]
  },
  {
   "cell_type": "markdown",
   "id": "6ab3facf",
   "metadata": {},
   "source": [
    "# Week11\n",
    "## Problem 1 Error analysis for the midpoint rule\n",
    "To do the error analysis, let us perform the Taylor expansion:\n",
    "$$\n",
    "\\begin{align*}\n",
    "f(x) & =f(x_{j}+\\frac{h}{2})+(x-x_{j}-\\frac{h}{2})f'(x_{j}+\\frac{h}{2})+\\frac{1}{2}(x-x_{j}-\\frac{h}{2})^{2}f''(x_{j}+\\frac{h}{2})+\\dots\\\\\n",
    " & =f(x_{j}+\\frac{h}{2})+(x-x_{j}-\\frac{h}{2})f'(x_{j}+\\frac{h}{2})+\\frac{1}{2}(x-x_{j}-\\frac{h}{2})^{2}f''(\\xi_{j})\n",
    "\\end{align*}\n",
    "$$\n",
    "where $\\xi_{j}$ is a point between $x$ and $x_{j}+\\frac{h}{2}$.\n",
    "With this, we can write\n",
    "$$\n",
    "\\int_{x_{j}}^{x_{j+1}}f(x)\\,dx=\\int_{x_{j}}^{x_{j+1}}dx\\,\\left[f(x_{j}+\\frac{h}{2})+(x-x_{j}-\\frac{h}{2})f'(x_{j}+\\frac{h}{2})+\\frac{1}{2}(x-x_{j}-\\frac{h}{2})^{2}f''(\\xi_{j})\\right]\n",
    "$$\n",
    "Let us define\n",
    "$$\n",
    "u=\\frac{x-x_{j}-h/2}{h}\\quad\\Rightarrow\\quad du=dx/h.\n",
    "$$\n",
    "We have\n",
    "$$\n",
    "\\begin{align*}\n",
    "\\int_{x_{j}}^{x_{j+1}}f(x)\\,dx & =\\int_{-1/2}^{1/2}du\\left[hf(x_{j}+\\frac{h}{2})+h^{2}uf'(x_{j}+\\frac{h}{2})+\\frac{h^{3}}{2}u^{2}f''(\\xi_{j})\\right]\\\\\n",
    " & =hf(x_{j}+\\frac{h}{2})+\\frac{h^{3}}{24}f''(\\xi_{j}).\n",
    "\\end{align*}\n",
    "$$\n",
    "Thus, the single-panel error is\n",
    "$$\n",
    "\\mathcal{E}_j = \\frac{h^3}{24}f''(\\xi_j).\n",
    "$$\n",
    "\n",
    "The the composite version error\n",
    "$$\n",
    "\\mathcal{E} = \\sum_{j=0}^{n-1}\\frac{h^3}{24}f''(\\xi_j) = \\frac{(b-a)h^2}{24}\\overline{f''}.\n",
    "$$"
   ]
  },
  {
   "cell_type": "markdown",
   "id": "cebef4c9",
   "metadata": {},
   "source": [
    "## Problem 2 Simpson's rule weights \n",
    "First, notice that $(x_{i}-x_{i+1})=-h$, $(x_{i}-x_{i+2})=-2h$,\n",
    "$(x_{i+1}-x_{i+2})=-h$. We further introduce\n",
    "$$\n",
    "u=\\frac{x-x_{i+1}}{h},\\quad dx=hdu\n",
    "$$\n",
    "We have\n",
    "$$\n",
    "L_{i}(x)=\\frac{(x-x_{i+1})(x-x_{i+2})}{(x_{i}-x_{i+1})(x_{i}-x_{i+2})}=\\frac{h^{2}u(u-1)}{2h^{2}}=\\frac{u(u-1)}{2}\n",
    "$$\n",
    "$$\n",
    "L_{i+1}(x)=\\frac{(x-x_{i})(x-x_{i+2})}{(x_{i+1}-x_{i})(x_{i+1}-x_{i+2})}=\\frac{h^{2}(u+1)(u-1)}{-h^{2}}=1-u^{2}\n",
    "$$\n",
    "$$\n",
    "L_{i+2}(x)=\\frac{(x-x_{i})(x-x_{i+1})}{(x_{i+2}-x_{i})(x_{i+2}-x_{i+1})}=\\frac{h^{2}u(u+1)}{2h^{2}}=\\frac{u(u+1)}{2}\n",
    "$$\n",
    "$$\n",
    "w_{i}=\\int_{x_{i}}^{x_{i+2}}dxL_{i}(x)=h\\int_{-1}^{1}du\\frac{u(u-1)}{2}=h\\int_{0}^{1}du\\,u^{2}=\\frac{h}{3}\n",
    "$$\n",
    "$$\n",
    "w_{i+1}=\\int_{x_{i}}^{x_{i+2}}dxL_{i+1}(x)=h\\int_{-1}^{1}du\\,(1-u^{2})=2h(1-\\frac{1}{3})=\\frac{4h}{3}\n",
    "$$\n",
    "$$\n",
    "w_{i+2}=\\int_{x_{i}}^{x_{i+2}}dxL_{i+2}(x)=h\\int_{-1}^{1}du\\,\\frac{u(u+1)}{2}=\\frac{h}{3}.\n",
    "$$"
   ]
  },
  {
   "cell_type": "markdown",
   "id": "3d4fd253",
   "metadata": {},
   "source": [
    "# Week 12\n",
    "![](meeting5_files/week12.PNG)"
   ]
  },
  {
   "cell_type": "markdown",
   "id": "013ee9cb",
   "metadata": {},
   "source": [
    "# Week 13\n",
    "![](meeting5_files/week13.jpg)"
   ]
  },
  {
   "attachments": {},
   "cell_type": "markdown",
   "id": "073e5418",
   "metadata": {},
   "source": [
    "## Problem 2\n",
    "**Calculating the following integral using Monte Carlo method**:\n",
    "$$\n",
    "I =  \\frac{\\int_{x^2+y^2\\leq 1} dxdy\\, e^{-(x^2+y^2)}x^2}{\\int_{x^{2}+y^{2}\\leq1}dxdy\\,\\exp(-(x^{2}+y^{2}))}\n",
    "$$\n",
    "\n",
    "Let us first work out it analytically.\n",
    "$$\n",
    "\\begin{align*}\n",
    "\\frac{\\int_{x^{2}+y^{2}\\leq1}dxdy\\,\\exp(-(x^{2}+y^{2}))x^{2}}{\\int_{x^{2}+y^{2}\\leq1}dxdy\\,\\exp(-(x^{2}+y^{2}))} & =\\frac{\\int_{0}^{1}rdr\\int_{0}^{2\\pi}d\\theta\\exp(-r^{2})r^{2}\\cos^{2}\\theta}{2\\pi\\int_{0}^{1}rdr\\exp(-r^{2})}\\\\\n",
    " & =\\frac{\\int_{0}^{1}dr\\,r^{3}\\exp(-r^{2})\\int_{0}^{2\\pi}d\\theta\\,\\cos^{2}\\theta}{\\pi(1-1/e)}\\\\\n",
    " & =\\frac{\\int_{0}^{1}dr\\,r\\exp(-r)}{2(1-1/e)}\\\\\n",
    " & =\\frac{(e-2)}{e}\\times\\frac{e}{2(e-1)}\\\\\n",
    " & =\\frac{e-2}{2(e-1)}\\\\\n",
    " & \\simeq 0.21\n",
    "\\end{align*}\n",
    "$$"
   ]
  },
  {
   "cell_type": "code",
   "execution_count": 4,
   "id": "822f8caa",
   "metadata": {},
   "outputs": [
    {
     "name": "stdout",
     "output_type": "stream",
     "text": [
      "Integration =  0.20977512319500344\n",
      "Acceptance probability is 0.39398\n"
     ]
    }
   ],
   "source": [
    "import numpy as np\n",
    "\n",
    "def w(x):\n",
    "    x_sq = np.sum(x**2)\n",
    "    if (x_sq > 1):\n",
    "        return 0.\n",
    "    else:\n",
    "        return np.exp(-x_sq)\n",
    "\n",
    "def f(x):\n",
    "    return x[0]**2\n",
    "\n",
    "def initialize():\n",
    "    return np.random.uniform(-0.5,0.5,2)\n",
    "\n",
    "def propose_new(x,theta):\n",
    "    return x + theta * np.random.uniform(-1,1,2)\n",
    "\n",
    "def monte_carlo(w, f, theta,n_sample, discard_m):\n",
    "    x = initialize()\n",
    "    wx = w(x)\n",
    "    fs = []\n",
    "    accept_num = 0\n",
    "    for jj in range(discard_m+n_sample):\n",
    "        y = propose_new(x,theta)\n",
    "        wy = w(y)\n",
    "        if (wx>wy):\n",
    "            alpha = wy/wx\n",
    "            xi = np.random.uniform(0,1)\n",
    "            if (alpha >= xi):\n",
    "                x = y\n",
    "                wx = wy\n",
    "                accept_num += 1\n",
    "        else:\n",
    "            x = y\n",
    "            wx = wy\n",
    "            accept_num += 1\n",
    "\n",
    "        fs.append(f(x))\n",
    "\n",
    "    accept_prob = accept_num/n_sample\n",
    "    fs = np.array(fs)\n",
    "    fs = fs[discard_m:]\n",
    "    return np.sum(fs)/n_sample, accept_prob\n",
    "\n",
    "if __name__ == '__main__':\n",
    "    theta = 1.2\n",
    "    n_sample = 100000\n",
    "    discard_m = 2000\n",
    "    integral,accept_prob = monte_carlo(w,f,theta,n_sample,discard_m)\n",
    "    print(\"Integration = \", integral)\n",
    "    print(\"Acceptance probability is\", accept_prob)"
   ]
  }
 ],
 "metadata": {
  "kernelspec": {
   "display_name": "Python 3.10.6 ('phys490')",
   "language": "python",
   "name": "python3"
  },
  "language_info": {
   "codemirror_mode": {
    "name": "ipython",
    "version": 3
   },
   "file_extension": ".py",
   "mimetype": "text/x-python",
   "name": "python",
   "nbconvert_exporter": "python",
   "pygments_lexer": "ipython3",
   "version": "3.10.6"
  },
  "vscode": {
   "interpreter": {
    "hash": "b073b9801dd52b26a7426f4858f6ea87c0e3caa9beed7525d2eae20ef4434fe9"
   }
  }
 },
 "nbformat": 4,
 "nbformat_minor": 5
}
